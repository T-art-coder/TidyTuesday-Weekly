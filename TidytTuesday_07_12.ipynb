{
  "nbformat": 4,
  "nbformat_minor": 0,
  "metadata": {
    "colab": {
      "name": "TidytTuesday-07-12.ipynb",
      "provenance": [],
      "collapsed_sections": [],
      "authorship_tag": "ABX9TyPb4e82c9QkMnOABItmnvnr",
      "include_colab_link": true
    },
    "kernelspec": {
      "name": "ir",
      "display_name": "R"
    },
    "language_info": {
      "name": "R"
    }
  },
  "cells": [
    {
      "cell_type": "markdown",
      "metadata": {
        "id": "view-in-github",
        "colab_type": "text"
      },
      "source": [
        "<a href=\"https://colab.research.google.com/github/T-art-coder/TidyTuesday-Weekly/blob/main/TidytTuesday_07_12.ipynb\" target=\"_parent\"><img src=\"https://colab.research.google.com/assets/colab-badge.svg\" alt=\"Open In Colab\"/></a>"
      ]
    },
    {
      "cell_type": "markdown",
      "source": [
        "## packages and etc"
      ],
      "metadata": {
        "id": "rUu43Ec9c28Y"
      }
    },
    {
      "cell_type": "code",
      "execution_count": null,
      "metadata": {
        "id": "qpd9wMGIQL2_",
        "colab": {
          "base_uri": "https://localhost:8080/"
        },
        "outputId": "c5c0882d-3246-4e92-b7ad-3dae8d83c289"
      },
      "outputs": [
        {
          "output_type": "stream",
          "name": "stderr",
          "text": [
            "Warning message in system(\"timedatectl\", intern = TRUE):\n",
            "“running command 'timedatectl' had status 1”\n",
            "── \u001b[1mAttaching packages\u001b[22m ─────────────────────────────────────── tidyverse 1.3.1 ──\n",
            "\n",
            "\u001b[32m✔\u001b[39m \u001b[34mggplot2\u001b[39m 3.3.6     \u001b[32m✔\u001b[39m \u001b[34mpurrr  \u001b[39m 0.3.4\n",
            "\u001b[32m✔\u001b[39m \u001b[34mtibble \u001b[39m 3.1.7     \u001b[32m✔\u001b[39m \u001b[34mdplyr  \u001b[39m 1.0.9\n",
            "\u001b[32m✔\u001b[39m \u001b[34mtidyr  \u001b[39m 1.2.0     \u001b[32m✔\u001b[39m \u001b[34mstringr\u001b[39m 1.4.0\n",
            "\u001b[32m✔\u001b[39m \u001b[34mreadr  \u001b[39m 2.1.2     \u001b[32m✔\u001b[39m \u001b[34mforcats\u001b[39m 0.5.1\n",
            "\n",
            "── \u001b[1mConflicts\u001b[22m ────────────────────────────────────────── tidyverse_conflicts() ──\n",
            "\u001b[31m✖\u001b[39m \u001b[34mdplyr\u001b[39m::\u001b[32mfilter()\u001b[39m masks \u001b[34mstats\u001b[39m::filter()\n",
            "\u001b[31m✖\u001b[39m \u001b[34mdplyr\u001b[39m::\u001b[32mlag()\u001b[39m    masks \u001b[34mstats\u001b[39m::lag()\n",
            "\n"
          ]
        }
      ],
      "source": [
        "library(tidyverse)"
      ]
    },
    {
      "cell_type": "code",
      "source": [
        "install.packages(\"readr\")\n",
        "install.packages(\"lubridate\")\n",
        "install.packages(\"scales\")\n",
        "install.packages(\"tidyverse\")\n",
        "install.packages(\"skimr\")\n",
        "install.packages(\"corrplot\")\n",
        "install.packages(\"gridExtra\")\n",
        "install.packages(\"caret\")\n",
        "install.packages(\"GGally\")"
      ],
      "metadata": {
        "id": "rRXxFokUQOm9",
        "colab": {
          "base_uri": "https://localhost:8080/"
        },
        "outputId": "4e73a9e2-bcb6-4644-8a52-523663d55734"
      },
      "execution_count": null,
      "outputs": [
        {
          "output_type": "stream",
          "name": "stderr",
          "text": [
            "Installing package into ‘/usr/local/lib/R/site-library’\n",
            "(as ‘lib’ is unspecified)\n",
            "\n",
            "Installing package into ‘/usr/local/lib/R/site-library’\n",
            "(as ‘lib’ is unspecified)\n",
            "\n",
            "Installing package into ‘/usr/local/lib/R/site-library’\n",
            "(as ‘lib’ is unspecified)\n",
            "\n",
            "Installing package into ‘/usr/local/lib/R/site-library’\n",
            "(as ‘lib’ is unspecified)\n",
            "\n",
            "Installing package into ‘/usr/local/lib/R/site-library’\n",
            "(as ‘lib’ is unspecified)\n",
            "\n",
            "Installing package into ‘/usr/local/lib/R/site-library’\n",
            "(as ‘lib’ is unspecified)\n",
            "\n",
            "Installing package into ‘/usr/local/lib/R/site-library’\n",
            "(as ‘lib’ is unspecified)\n",
            "\n",
            "Installing package into ‘/usr/local/lib/R/site-library’\n",
            "(as ‘lib’ is unspecified)\n",
            "\n",
            "also installing the dependencies ‘listenv’, ‘parallelly’, ‘future’, ‘globals’, ‘future.apply’, ‘progressr’, ‘numDeriv’, ‘SQUAREM’, ‘lava’, ‘prodlim’, ‘proxy’, ‘iterators’, ‘Rcpp’, ‘gower’, ‘hardhat’, ‘ipred’, ‘timeDate’, ‘e1071’, ‘foreach’, ‘ModelMetrics’, ‘plyr’, ‘pROC’, ‘recipes’, ‘reshape2’\n",
            "\n",
            "\n",
            "Installing package into ‘/usr/local/lib/R/site-library’\n",
            "(as ‘lib’ is unspecified)\n",
            "\n",
            "also installing the dependency ‘reshape’\n",
            "\n",
            "\n"
          ]
        }
      ]
    },
    {
      "cell_type": "code",
      "source": [
        "#install.packages(\"ggpubr\")\n",
        "install.packages(\"readxl\")"
      ],
      "metadata": {
        "colab": {
          "base_uri": "https://localhost:8080/"
        },
        "id": "mxq8xCGuQapN",
        "outputId": "66cf873b-8daf-4bf5-bdb0-4ba8954b223c"
      },
      "execution_count": null,
      "outputs": [
        {
          "output_type": "stream",
          "name": "stderr",
          "text": [
            "Installing package into ‘/usr/local/lib/R/site-library’\n",
            "(as ‘lib’ is unspecified)\n",
            "\n"
          ]
        }
      ]
    },
    {
      "cell_type": "code",
      "source": [
        "library(corrplot)\n",
        "library(caret)\n",
        "library(gridExtra)\n",
        "library(skimr)\n",
        "library(tidyverse)\n",
        "library(lubridate)\n",
        "library(GGally)\n",
        "library(scales)\n",
        "#library(ggpubr)"
      ],
      "metadata": {
        "id": "CyrKb0otQOpl"
      },
      "execution_count": null,
      "outputs": []
    },
    {
      "cell_type": "code",
      "source": [
        "my_pretty_theme <- theme_minimal(base_family = \"Roboto Condensed\", base_size = 12) +\n",
        "  theme(panel.grid.minor = element_blank(),\n",
        "        # Bold, bigger title\n",
        "        plot.title = element_text(face = \"bold\", size = rel(1.7)),\n",
        "        # Plain, slightly bigger subtitle that is grey\n",
        "        plot.subtitle = element_text(face = \"plain\", size = rel(1.3), color = \"grey70\"),\n",
        "        # Italic, smaller, grey caption that is left-aligned\n",
        "        plot.caption = element_text(face = \"italic\", size = rel(0.7), \n",
        "                                    color = \"gray50\"),\n",
        "        # Bold legend titles\n",
        "        legend.title = element_text(face = \"bold\"),\n",
        "        # Bold, slightly larger facet titles that are left-aligned for the sake of repetition\n",
        "        strip.text = element_text(face = \"bold\", size = rel(1.1), hjust = 0),\n",
        "        # Bold axis titles\n",
        "        axis.title = element_text(face = \"bold\"),\n",
        "        # Add some space above the x-axis title and make it left-aligned\n",
        "        # axis.title.x = element_text(margin = margin(t = 10), hjust = 0),\n",
        "        # Add some space to the right of the y-axis title and make it top-aligned\n",
        "        axis.title.y = element_text(margin = margin(r = 10), hjust = 1),\n",
        "        # Add a light grey background to the facet titles, with no borders\n",
        "        strip.background = element_rect(fill = \"grey90\", color = NA),\n",
        "        # Add a thin grey border around all the plots to tie in the facet titles\n",
        "        panel.border = element_rect(color = \"grey90\", fill = NA))"
      ],
      "metadata": {
        "id": "THGTqMAOQOsV"
      },
      "execution_count": null,
      "outputs": []
    },
    {
      "cell_type": "code",
      "source": [
        "caption <- \"TidyTuesday 2022 W27 | K. Pennington Rental Housing Data | @TimirZolkin\""
      ],
      "metadata": {
        "id": "6ACP6BYmQOu1"
      },
      "execution_count": null,
      "outputs": []
    },
    {
      "cell_type": "code",
      "source": [
        "flights <- readr::read_csv('https://raw.githubusercontent.com/rfordatascience/tidytuesday/master/data/2022/2022-07-12/flights.csv')\n",
        "\n",
        "head(flights)"
      ],
      "metadata": {
        "colab": {
          "base_uri": "https://localhost:8080/",
          "height": 626
        },
        "id": "WyszFK8rS7k0",
        "outputId": "7bc4286b-850a-4fb6-ea69-581f7b4fdb6a"
      },
      "execution_count": null,
      "outputs": [
        {
          "output_type": "stream",
          "name": "stderr",
          "text": [
            "\u001b[1mRows: \u001b[22m\u001b[34m688099\u001b[39m \u001b[1mColumns: \u001b[22m\u001b[34m14\u001b[39m\n",
            "\u001b[36m──\u001b[39m \u001b[1mColumn specification\u001b[22m \u001b[36m────────────────────────────────────────────────────────\u001b[39m\n",
            "\u001b[1mDelimiter:\u001b[22m \",\"\n",
            "\u001b[31mchr\u001b[39m  (6): MONTH_NUM, MONTH_MON, APT_ICAO, APT_NAME, STATE_NAME, Pivot Label\n",
            "\u001b[32mdbl\u001b[39m  (7): YEAR, FLT_DEP_1, FLT_ARR_1, FLT_TOT_1, FLT_DEP_IFR_2, FLT_ARR_IFR_...\n",
            "\u001b[34mdttm\u001b[39m (1): FLT_DATE\n",
            "\n",
            "\u001b[36mℹ\u001b[39m Use `spec()` to retrieve the full column specification for this data.\n",
            "\u001b[36mℹ\u001b[39m Specify the column types or set `show_col_types = FALSE` to quiet this message.\n"
          ]
        },
        {
          "output_type": "display_data",
          "data": {
            "text/html": [
              "<table class=\"dataframe\">\n",
              "<caption>A tibble: 6 × 14</caption>\n",
              "<thead>\n",
              "\t<tr><th scope=col>YEAR</th><th scope=col>MONTH_NUM</th><th scope=col>MONTH_MON</th><th scope=col>FLT_DATE</th><th scope=col>APT_ICAO</th><th scope=col>APT_NAME</th><th scope=col>STATE_NAME</th><th scope=col>FLT_DEP_1</th><th scope=col>FLT_ARR_1</th><th scope=col>FLT_TOT_1</th><th scope=col>FLT_DEP_IFR_2</th><th scope=col>FLT_ARR_IFR_2</th><th scope=col>FLT_TOT_IFR_2</th><th scope=col>Pivot Label</th></tr>\n",
              "\t<tr><th scope=col>&lt;dbl&gt;</th><th scope=col>&lt;chr&gt;</th><th scope=col>&lt;chr&gt;</th><th scope=col>&lt;dttm&gt;</th><th scope=col>&lt;chr&gt;</th><th scope=col>&lt;chr&gt;</th><th scope=col>&lt;chr&gt;</th><th scope=col>&lt;dbl&gt;</th><th scope=col>&lt;dbl&gt;</th><th scope=col>&lt;dbl&gt;</th><th scope=col>&lt;dbl&gt;</th><th scope=col>&lt;dbl&gt;</th><th scope=col>&lt;dbl&gt;</th><th scope=col>&lt;chr&gt;</th></tr>\n",
              "</thead>\n",
              "<tbody>\n",
              "\t<tr><td>2016</td><td>01</td><td>JAN</td><td>2016-01-01</td><td>EBAW</td><td>Antwerp             </td><td>Belgium</td><td>  4</td><td>  3</td><td>  7</td><td> NA</td><td> NA</td><td> NA</td><td>Antwerp (EBAW)             </td></tr>\n",
              "\t<tr><td>2016</td><td>01</td><td>JAN</td><td>2016-01-01</td><td>EBBR</td><td>Brussels            </td><td>Belgium</td><td>174</td><td>171</td><td>345</td><td>174</td><td>161</td><td>335</td><td>Brussels (EBBR)            </td></tr>\n",
              "\t<tr><td>2016</td><td>01</td><td>JAN</td><td>2016-01-01</td><td>EBCI</td><td>Charleroi           </td><td>Belgium</td><td> 45</td><td> 47</td><td> 92</td><td> 45</td><td> 45</td><td> 90</td><td>Charleroi (EBCI)           </td></tr>\n",
              "\t<tr><td>2016</td><td>01</td><td>JAN</td><td>2016-01-01</td><td>EBLG</td><td>Liège               </td><td>Belgium</td><td>  6</td><td>  7</td><td> 13</td><td> NA</td><td> NA</td><td> NA</td><td>Liège (EBLG)               </td></tr>\n",
              "\t<tr><td>2016</td><td>01</td><td>JAN</td><td>2016-01-01</td><td>EBOS</td><td>Ostend-Bruges       </td><td>Belgium</td><td>  7</td><td>  7</td><td> 14</td><td> NA</td><td> NA</td><td> NA</td><td>Ostend-Bruges (EBOS)       </td></tr>\n",
              "\t<tr><td>2016</td><td>01</td><td>JAN</td><td>2016-01-01</td><td>EDDB</td><td>Berlin - Brandenburg</td><td>Germany</td><td> 98</td><td> 99</td><td>197</td><td> NA</td><td> NA</td><td> NA</td><td>Berlin - Brandenburg (EDDB)</td></tr>\n",
              "</tbody>\n",
              "</table>\n"
            ],
            "text/markdown": "\nA tibble: 6 × 14\n\n| YEAR &lt;dbl&gt; | MONTH_NUM &lt;chr&gt; | MONTH_MON &lt;chr&gt; | FLT_DATE &lt;dttm&gt; | APT_ICAO &lt;chr&gt; | APT_NAME &lt;chr&gt; | STATE_NAME &lt;chr&gt; | FLT_DEP_1 &lt;dbl&gt; | FLT_ARR_1 &lt;dbl&gt; | FLT_TOT_1 &lt;dbl&gt; | FLT_DEP_IFR_2 &lt;dbl&gt; | FLT_ARR_IFR_2 &lt;dbl&gt; | FLT_TOT_IFR_2 &lt;dbl&gt; | Pivot Label &lt;chr&gt; |\n|---|---|---|---|---|---|---|---|---|---|---|---|---|---|\n| 2016 | 01 | JAN | 2016-01-01 | EBAW | Antwerp              | Belgium |   4 |   3 |   7 |  NA |  NA |  NA | Antwerp (EBAW)              |\n| 2016 | 01 | JAN | 2016-01-01 | EBBR | Brussels             | Belgium | 174 | 171 | 345 | 174 | 161 | 335 | Brussels (EBBR)             |\n| 2016 | 01 | JAN | 2016-01-01 | EBCI | Charleroi            | Belgium |  45 |  47 |  92 |  45 |  45 |  90 | Charleroi (EBCI)            |\n| 2016 | 01 | JAN | 2016-01-01 | EBLG | Liège                | Belgium |   6 |   7 |  13 |  NA |  NA |  NA | Liège (EBLG)                |\n| 2016 | 01 | JAN | 2016-01-01 | EBOS | Ostend-Bruges        | Belgium |   7 |   7 |  14 |  NA |  NA |  NA | Ostend-Bruges (EBOS)        |\n| 2016 | 01 | JAN | 2016-01-01 | EDDB | Berlin - Brandenburg | Germany |  98 |  99 | 197 |  NA |  NA |  NA | Berlin - Brandenburg (EDDB) |\n\n",
            "text/latex": "A tibble: 6 × 14\n\\begin{tabular}{llllllllllllll}\n YEAR & MONTH\\_NUM & MONTH\\_MON & FLT\\_DATE & APT\\_ICAO & APT\\_NAME & STATE\\_NAME & FLT\\_DEP\\_1 & FLT\\_ARR\\_1 & FLT\\_TOT\\_1 & FLT\\_DEP\\_IFR\\_2 & FLT\\_ARR\\_IFR\\_2 & FLT\\_TOT\\_IFR\\_2 & Pivot Label\\\\\n <dbl> & <chr> & <chr> & <dttm> & <chr> & <chr> & <chr> & <dbl> & <dbl> & <dbl> & <dbl> & <dbl> & <dbl> & <chr>\\\\\n\\hline\n\t 2016 & 01 & JAN & 2016-01-01 & EBAW & Antwerp              & Belgium &   4 &   3 &   7 &  NA &  NA &  NA & Antwerp (EBAW)             \\\\\n\t 2016 & 01 & JAN & 2016-01-01 & EBBR & Brussels             & Belgium & 174 & 171 & 345 & 174 & 161 & 335 & Brussels (EBBR)            \\\\\n\t 2016 & 01 & JAN & 2016-01-01 & EBCI & Charleroi            & Belgium &  45 &  47 &  92 &  45 &  45 &  90 & Charleroi (EBCI)           \\\\\n\t 2016 & 01 & JAN & 2016-01-01 & EBLG & Liège                & Belgium &   6 &   7 &  13 &  NA &  NA &  NA & Liège (EBLG)               \\\\\n\t 2016 & 01 & JAN & 2016-01-01 & EBOS & Ostend-Bruges        & Belgium &   7 &   7 &  14 &  NA &  NA &  NA & Ostend-Bruges (EBOS)       \\\\\n\t 2016 & 01 & JAN & 2016-01-01 & EDDB & Berlin - Brandenburg & Germany &  98 &  99 & 197 &  NA &  NA &  NA & Berlin - Brandenburg (EDDB)\\\\\n\\end{tabular}\n",
            "text/plain": [
              "  YEAR MONTH_NUM MONTH_MON FLT_DATE   APT_ICAO APT_NAME             STATE_NAME\n",
              "1 2016 01        JAN       2016-01-01 EBAW     Antwerp              Belgium   \n",
              "2 2016 01        JAN       2016-01-01 EBBR     Brussels             Belgium   \n",
              "3 2016 01        JAN       2016-01-01 EBCI     Charleroi            Belgium   \n",
              "4 2016 01        JAN       2016-01-01 EBLG     Liège                Belgium   \n",
              "5 2016 01        JAN       2016-01-01 EBOS     Ostend-Bruges        Belgium   \n",
              "6 2016 01        JAN       2016-01-01 EDDB     Berlin - Brandenburg Germany   \n",
              "  FLT_DEP_1 FLT_ARR_1 FLT_TOT_1 FLT_DEP_IFR_2 FLT_ARR_IFR_2 FLT_TOT_IFR_2\n",
              "1   4         3         7        NA            NA            NA          \n",
              "2 174       171       345       174           161           335          \n",
              "3  45        47        92        45            45            90          \n",
              "4   6         7        13        NA            NA            NA          \n",
              "5   7         7        14        NA            NA            NA          \n",
              "6  98        99       197        NA            NA            NA          \n",
              "  Pivot Label                \n",
              "1 Antwerp (EBAW)             \n",
              "2 Brussels (EBBR)            \n",
              "3 Charleroi (EBCI)           \n",
              "4 Liège (EBLG)               \n",
              "5 Ostend-Bruges (EBOS)       \n",
              "6 Berlin - Brandenburg (EDDB)"
            ]
          },
          "metadata": {}
        }
      ]
    },
    {
      "cell_type": "markdown",
      "source": [
        ""
      ],
      "metadata": {
        "id": "eI2Ac1-0S6WM"
      }
    },
    {
      "cell_type": "markdown",
      "source": [
        "## airports data (not needed)"
      ],
      "metadata": {
        "id": "FjfSU4s2c6xf"
      }
    },
    {
      "cell_type": "code",
      "source": [
        "library(readxl)\n",
        "# https://www.partow.net/miscellaneous/airportdatabase/\n",
        "airports <- read_excel(\"/content/GlobalAirportDataBase.xlsx\")\n",
        "\n",
        "head(airports)"
      ],
      "metadata": {
        "colab": {
          "base_uri": "https://localhost:8080/",
          "height": 515
        },
        "id": "S19my2FZQO0V",
        "outputId": "931c1715-f434-489d-916f-cb82a428a636"
      },
      "execution_count": null,
      "outputs": [
        {
          "output_type": "display_data",
          "data": {
            "text/html": [
              "<table class=\"dataframe\">\n",
              "<caption>A tibble: 6 × 16</caption>\n",
              "<thead>\n",
              "\t<tr><th scope=col>icao_code</th><th scope=col>iata_code</th><th scope=col>airport_name</th><th scope=col>city</th><th scope=col>country</th><th scope=col>latitude_degrees</th><th scope=col>latitude_minutes</th><th scope=col>latitude_seconds</th><th scope=col>latitude_direction</th><th scope=col>longitude_degrees</th><th scope=col>longitude_minutes</th><th scope=col>longitude_seconds</th><th scope=col>longitude_direction</th><th scope=col>altitude</th><th scope=col>latitude_decimal_degrees</th><th scope=col>longitude_decimal_degrees</th></tr>\n",
              "\t<tr><th scope=col>&lt;chr&gt;</th><th scope=col>&lt;chr&gt;</th><th scope=col>&lt;chr&gt;</th><th scope=col>&lt;chr&gt;</th><th scope=col>&lt;chr&gt;</th><th scope=col>&lt;dbl&gt;</th><th scope=col>&lt;dbl&gt;</th><th scope=col>&lt;dbl&gt;</th><th scope=col>&lt;chr&gt;</th><th scope=col>&lt;dbl&gt;</th><th scope=col>&lt;dbl&gt;</th><th scope=col>&lt;dbl&gt;</th><th scope=col>&lt;chr&gt;</th><th scope=col>&lt;dbl&gt;</th><th scope=col>&lt;chr&gt;</th><th scope=col>&lt;chr&gt;</th></tr>\n",
              "</thead>\n",
              "<tbody>\n",
              "\t<tr><td>AYGA</td><td>GKA</td><td>GOROKA                             </td><td>GOROKA      </td><td>PAPUA NEW GUINEA</td><td>6</td><td> 4</td><td>54</td><td>S</td><td>145</td><td>23</td><td>30</td><td>E</td><td>1610</td><td>-6.082</td><td>145.392</td></tr>\n",
              "\t<tr><td>AYLA</td><td>LAE</td><td>N/A                                </td><td>LAE         </td><td>PAPUA NEW GUINEA</td><td>0</td><td> 0</td><td> 0</td><td>U</td><td>  0</td><td> 0</td><td> 0</td><td>U</td><td>   0</td><td>0.000 </td><td>0.000  </td></tr>\n",
              "\t<tr><td>AYMD</td><td>MAG</td><td>MADANG                             </td><td>MADANG      </td><td>PAPUA NEW GUINEA</td><td>5</td><td>12</td><td>25</td><td>S</td><td>145</td><td>47</td><td>19</td><td>E</td><td>   7</td><td>-5.207</td><td>145.789</td></tr>\n",
              "\t<tr><td>AYMH</td><td>HGU</td><td>MOUNT HAGEN                        </td><td>MOUNT HAGEN </td><td>PAPUA NEW GUINEA</td><td>5</td><td>49</td><td>34</td><td>S</td><td>144</td><td>17</td><td>46</td><td>E</td><td>1643</td><td>-5.826</td><td>144.296</td></tr>\n",
              "\t<tr><td>AYNZ</td><td>LAE</td><td>NADZAB                             </td><td>NADZAB      </td><td>PAPUA NEW GUINEA</td><td>6</td><td>34</td><td>11</td><td>S</td><td>146</td><td>43</td><td>34</td><td>E</td><td>  73</td><td>-6.570</td><td>146.726</td></tr>\n",
              "\t<tr><td>AYPY</td><td>POM</td><td>PORT MORESBY JACKSONS INTERNATIONAL</td><td>PORT MORESBY</td><td>PAPUA NEW GUINEA</td><td>9</td><td>26</td><td>36</td><td>S</td><td>147</td><td>13</td><td>12</td><td>E</td><td>  45</td><td>-9.443</td><td>147.220</td></tr>\n",
              "</tbody>\n",
              "</table>\n"
            ],
            "text/markdown": "\nA tibble: 6 × 16\n\n| icao_code &lt;chr&gt; | iata_code &lt;chr&gt; | airport_name &lt;chr&gt; | city &lt;chr&gt; | country &lt;chr&gt; | latitude_degrees &lt;dbl&gt; | latitude_minutes &lt;dbl&gt; | latitude_seconds &lt;dbl&gt; | latitude_direction &lt;chr&gt; | longitude_degrees &lt;dbl&gt; | longitude_minutes &lt;dbl&gt; | longitude_seconds &lt;dbl&gt; | longitude_direction &lt;chr&gt; | altitude &lt;dbl&gt; | latitude_decimal_degrees &lt;chr&gt; | longitude_decimal_degrees &lt;chr&gt; |\n|---|---|---|---|---|---|---|---|---|---|---|---|---|---|---|---|\n| AYGA | GKA | GOROKA                              | GOROKA       | PAPUA NEW GUINEA | 6 |  4 | 54 | S | 145 | 23 | 30 | E | 1610 | -6.082 | 145.392 |\n| AYLA | LAE | N/A                                 | LAE          | PAPUA NEW GUINEA | 0 |  0 |  0 | U |   0 |  0 |  0 | U |    0 | 0.000  | 0.000   |\n| AYMD | MAG | MADANG                              | MADANG       | PAPUA NEW GUINEA | 5 | 12 | 25 | S | 145 | 47 | 19 | E |    7 | -5.207 | 145.789 |\n| AYMH | HGU | MOUNT HAGEN                         | MOUNT HAGEN  | PAPUA NEW GUINEA | 5 | 49 | 34 | S | 144 | 17 | 46 | E | 1643 | -5.826 | 144.296 |\n| AYNZ | LAE | NADZAB                              | NADZAB       | PAPUA NEW GUINEA | 6 | 34 | 11 | S | 146 | 43 | 34 | E |   73 | -6.570 | 146.726 |\n| AYPY | POM | PORT MORESBY JACKSONS INTERNATIONAL | PORT MORESBY | PAPUA NEW GUINEA | 9 | 26 | 36 | S | 147 | 13 | 12 | E |   45 | -9.443 | 147.220 |\n\n",
            "text/latex": "A tibble: 6 × 16\n\\begin{tabular}{llllllllllllllll}\n icao\\_code & iata\\_code & airport\\_name & city & country & latitude\\_degrees & latitude\\_minutes & latitude\\_seconds & latitude\\_direction & longitude\\_degrees & longitude\\_minutes & longitude\\_seconds & longitude\\_direction & altitude & latitude\\_decimal\\_degrees & longitude\\_decimal\\_degrees\\\\\n <chr> & <chr> & <chr> & <chr> & <chr> & <dbl> & <dbl> & <dbl> & <chr> & <dbl> & <dbl> & <dbl> & <chr> & <dbl> & <chr> & <chr>\\\\\n\\hline\n\t AYGA & GKA & GOROKA                              & GOROKA       & PAPUA NEW GUINEA & 6 &  4 & 54 & S & 145 & 23 & 30 & E & 1610 & -6.082 & 145.392\\\\\n\t AYLA & LAE & N/A                                 & LAE          & PAPUA NEW GUINEA & 0 &  0 &  0 & U &   0 &  0 &  0 & U &    0 & 0.000  & 0.000  \\\\\n\t AYMD & MAG & MADANG                              & MADANG       & PAPUA NEW GUINEA & 5 & 12 & 25 & S & 145 & 47 & 19 & E &    7 & -5.207 & 145.789\\\\\n\t AYMH & HGU & MOUNT HAGEN                         & MOUNT HAGEN  & PAPUA NEW GUINEA & 5 & 49 & 34 & S & 144 & 17 & 46 & E & 1643 & -5.826 & 144.296\\\\\n\t AYNZ & LAE & NADZAB                              & NADZAB       & PAPUA NEW GUINEA & 6 & 34 & 11 & S & 146 & 43 & 34 & E &   73 & -6.570 & 146.726\\\\\n\t AYPY & POM & PORT MORESBY JACKSONS INTERNATIONAL & PORT MORESBY & PAPUA NEW GUINEA & 9 & 26 & 36 & S & 147 & 13 & 12 & E &   45 & -9.443 & 147.220\\\\\n\\end{tabular}\n",
            "text/plain": [
              "  icao_code iata_code airport_name                        city        \n",
              "1 AYGA      GKA       GOROKA                              GOROKA      \n",
              "2 AYLA      LAE       N/A                                 LAE         \n",
              "3 AYMD      MAG       MADANG                              MADANG      \n",
              "4 AYMH      HGU       MOUNT HAGEN                         MOUNT HAGEN \n",
              "5 AYNZ      LAE       NADZAB                              NADZAB      \n",
              "6 AYPY      POM       PORT MORESBY JACKSONS INTERNATIONAL PORT MORESBY\n",
              "  country          latitude_degrees latitude_minutes latitude_seconds\n",
              "1 PAPUA NEW GUINEA 6                 4               54              \n",
              "2 PAPUA NEW GUINEA 0                 0                0              \n",
              "3 PAPUA NEW GUINEA 5                12               25              \n",
              "4 PAPUA NEW GUINEA 5                49               34              \n",
              "5 PAPUA NEW GUINEA 6                34               11              \n",
              "6 PAPUA NEW GUINEA 9                26               36              \n",
              "  latitude_direction longitude_degrees longitude_minutes longitude_seconds\n",
              "1 S                  145               23                30               \n",
              "2 U                    0                0                 0               \n",
              "3 S                  145               47                19               \n",
              "4 S                  144               17                46               \n",
              "5 S                  146               43                34               \n",
              "6 S                  147               13                12               \n",
              "  longitude_direction altitude latitude_decimal_degrees\n",
              "1 E                   1610     -6.082                  \n",
              "2 U                      0     0.000                   \n",
              "3 E                      7     -5.207                  \n",
              "4 E                   1643     -5.826                  \n",
              "5 E                     73     -6.570                  \n",
              "6 E                     45     -9.443                  \n",
              "  longitude_decimal_degrees\n",
              "1 145.392                  \n",
              "2 0.000                    \n",
              "3 145.789                  \n",
              "4 144.296                  \n",
              "5 146.726                  \n",
              "6 147.220                  "
            ]
          },
          "metadata": {}
        }
      ]
    },
    {
      "cell_type": "markdown",
      "source": [
        "A sanity check."
      ],
      "metadata": {
        "id": "BB08xEfyYnGi"
      }
    },
    {
      "cell_type": "code",
      "source": [
        "airports %>% filter(icao_code == \"EBAW\")"
      ],
      "metadata": {
        "colab": {
          "base_uri": "https://localhost:8080/",
          "height": 149
        },
        "id": "neGIaH2hQO29",
        "outputId": "e4b37a0d-2547-4e26-db63-dce1e95489dd"
      },
      "execution_count": null,
      "outputs": [
        {
          "output_type": "display_data",
          "data": {
            "text/html": [
              "<table class=\"dataframe\">\n",
              "<caption>A tibble: 1 × 16</caption>\n",
              "<thead>\n",
              "\t<tr><th scope=col>icao_code</th><th scope=col>iata_code</th><th scope=col>airport_name</th><th scope=col>city</th><th scope=col>country</th><th scope=col>latitude_degrees</th><th scope=col>latitude_minutes</th><th scope=col>latitude_seconds</th><th scope=col>latitude_direction</th><th scope=col>longitude_degrees</th><th scope=col>longitude_minutes</th><th scope=col>longitude_seconds</th><th scope=col>longitude_direction</th><th scope=col>altitude</th><th scope=col>latitude_decimal_degrees</th><th scope=col>longitude_decimal_degrees</th></tr>\n",
              "\t<tr><th scope=col>&lt;chr&gt;</th><th scope=col>&lt;chr&gt;</th><th scope=col>&lt;chr&gt;</th><th scope=col>&lt;chr&gt;</th><th scope=col>&lt;chr&gt;</th><th scope=col>&lt;dbl&gt;</th><th scope=col>&lt;dbl&gt;</th><th scope=col>&lt;dbl&gt;</th><th scope=col>&lt;chr&gt;</th><th scope=col>&lt;dbl&gt;</th><th scope=col>&lt;dbl&gt;</th><th scope=col>&lt;dbl&gt;</th><th scope=col>&lt;chr&gt;</th><th scope=col>&lt;dbl&gt;</th><th scope=col>&lt;chr&gt;</th><th scope=col>&lt;chr&gt;</th></tr>\n",
              "</thead>\n",
              "<tbody>\n",
              "\t<tr><td>EBAW</td><td>ANR</td><td>DEURNE</td><td>ANTWERP</td><td>BELGIUM</td><td>51</td><td>11</td><td>24</td><td>N</td><td>4</td><td>27</td><td>46</td><td>E</td><td>12</td><td>51.190</td><td>4.463</td></tr>\n",
              "</tbody>\n",
              "</table>\n"
            ],
            "text/markdown": "\nA tibble: 1 × 16\n\n| icao_code &lt;chr&gt; | iata_code &lt;chr&gt; | airport_name &lt;chr&gt; | city &lt;chr&gt; | country &lt;chr&gt; | latitude_degrees &lt;dbl&gt; | latitude_minutes &lt;dbl&gt; | latitude_seconds &lt;dbl&gt; | latitude_direction &lt;chr&gt; | longitude_degrees &lt;dbl&gt; | longitude_minutes &lt;dbl&gt; | longitude_seconds &lt;dbl&gt; | longitude_direction &lt;chr&gt; | altitude &lt;dbl&gt; | latitude_decimal_degrees &lt;chr&gt; | longitude_decimal_degrees &lt;chr&gt; |\n|---|---|---|---|---|---|---|---|---|---|---|---|---|---|---|---|\n| EBAW | ANR | DEURNE | ANTWERP | BELGIUM | 51 | 11 | 24 | N | 4 | 27 | 46 | E | 12 | 51.190 | 4.463 |\n\n",
            "text/latex": "A tibble: 1 × 16\n\\begin{tabular}{llllllllllllllll}\n icao\\_code & iata\\_code & airport\\_name & city & country & latitude\\_degrees & latitude\\_minutes & latitude\\_seconds & latitude\\_direction & longitude\\_degrees & longitude\\_minutes & longitude\\_seconds & longitude\\_direction & altitude & latitude\\_decimal\\_degrees & longitude\\_decimal\\_degrees\\\\\n <chr> & <chr> & <chr> & <chr> & <chr> & <dbl> & <dbl> & <dbl> & <chr> & <dbl> & <dbl> & <dbl> & <chr> & <dbl> & <chr> & <chr>\\\\\n\\hline\n\t EBAW & ANR & DEURNE & ANTWERP & BELGIUM & 51 & 11 & 24 & N & 4 & 27 & 46 & E & 12 & 51.190 & 4.463\\\\\n\\end{tabular}\n",
            "text/plain": [
              "  icao_code iata_code airport_name city    country latitude_degrees\n",
              "1 EBAW      ANR       DEURNE       ANTWERP BELGIUM 51              \n",
              "  latitude_minutes latitude_seconds latitude_direction longitude_degrees\n",
              "1 11               24               N                  4                \n",
              "  longitude_minutes longitude_seconds longitude_direction altitude\n",
              "1 27                46                E                   12      \n",
              "  latitude_decimal_degrees longitude_decimal_degrees\n",
              "1 51.190                   4.463                    "
            ]
          },
          "metadata": {}
        }
      ]
    },
    {
      "cell_type": "code",
      "source": [
        "airports %>% filter(icao_code == \"EBCI\")"
      ],
      "metadata": {
        "colab": {
          "base_uri": "https://localhost:8080/",
          "height": 166
        },
        "id": "7j9Tyjk0QO5u",
        "outputId": "7bfa3b7b-5644-4780-d095-933f318f262b"
      },
      "execution_count": null,
      "outputs": [
        {
          "output_type": "display_data",
          "data": {
            "text/html": [
              "<table class=\"dataframe\">\n",
              "<caption>A tibble: 1 × 16</caption>\n",
              "<thead>\n",
              "\t<tr><th scope=col>icao_code</th><th scope=col>iata_code</th><th scope=col>airport_name</th><th scope=col>city</th><th scope=col>country</th><th scope=col>latitude_degrees</th><th scope=col>latitude_minutes</th><th scope=col>latitude_seconds</th><th scope=col>latitude_direction</th><th scope=col>longitude_degrees</th><th scope=col>longitude_minutes</th><th scope=col>longitude_seconds</th><th scope=col>longitude_direction</th><th scope=col>altitude</th><th scope=col>latitude_decimal_degrees</th><th scope=col>longitude_decimal_degrees</th></tr>\n",
              "\t<tr><th scope=col>&lt;chr&gt;</th><th scope=col>&lt;chr&gt;</th><th scope=col>&lt;chr&gt;</th><th scope=col>&lt;chr&gt;</th><th scope=col>&lt;chr&gt;</th><th scope=col>&lt;dbl&gt;</th><th scope=col>&lt;dbl&gt;</th><th scope=col>&lt;dbl&gt;</th><th scope=col>&lt;chr&gt;</th><th scope=col>&lt;dbl&gt;</th><th scope=col>&lt;dbl&gt;</th><th scope=col>&lt;dbl&gt;</th><th scope=col>&lt;chr&gt;</th><th scope=col>&lt;dbl&gt;</th><th scope=col>&lt;chr&gt;</th><th scope=col>&lt;chr&gt;</th></tr>\n",
              "</thead>\n",
              "<tbody>\n",
              "\t<tr><td>EBCI</td><td>CRL</td><td>BRUSSELS SOUTH</td><td>CHARLEROI</td><td>BELGIUM</td><td>50</td><td>27</td><td>33</td><td>N</td><td>4</td><td>27</td><td>13</td><td>E</td><td>188</td><td>50.459</td><td>4.454</td></tr>\n",
              "</tbody>\n",
              "</table>\n"
            ],
            "text/markdown": "\nA tibble: 1 × 16\n\n| icao_code &lt;chr&gt; | iata_code &lt;chr&gt; | airport_name &lt;chr&gt; | city &lt;chr&gt; | country &lt;chr&gt; | latitude_degrees &lt;dbl&gt; | latitude_minutes &lt;dbl&gt; | latitude_seconds &lt;dbl&gt; | latitude_direction &lt;chr&gt; | longitude_degrees &lt;dbl&gt; | longitude_minutes &lt;dbl&gt; | longitude_seconds &lt;dbl&gt; | longitude_direction &lt;chr&gt; | altitude &lt;dbl&gt; | latitude_decimal_degrees &lt;chr&gt; | longitude_decimal_degrees &lt;chr&gt; |\n|---|---|---|---|---|---|---|---|---|---|---|---|---|---|---|---|\n| EBCI | CRL | BRUSSELS SOUTH | CHARLEROI | BELGIUM | 50 | 27 | 33 | N | 4 | 27 | 13 | E | 188 | 50.459 | 4.454 |\n\n",
            "text/latex": "A tibble: 1 × 16\n\\begin{tabular}{llllllllllllllll}\n icao\\_code & iata\\_code & airport\\_name & city & country & latitude\\_degrees & latitude\\_minutes & latitude\\_seconds & latitude\\_direction & longitude\\_degrees & longitude\\_minutes & longitude\\_seconds & longitude\\_direction & altitude & latitude\\_decimal\\_degrees & longitude\\_decimal\\_degrees\\\\\n <chr> & <chr> & <chr> & <chr> & <chr> & <dbl> & <dbl> & <dbl> & <chr> & <dbl> & <dbl> & <dbl> & <chr> & <dbl> & <chr> & <chr>\\\\\n\\hline\n\t EBCI & CRL & BRUSSELS SOUTH & CHARLEROI & BELGIUM & 50 & 27 & 33 & N & 4 & 27 & 13 & E & 188 & 50.459 & 4.454\\\\\n\\end{tabular}\n",
            "text/plain": [
              "  icao_code iata_code airport_name   city      country latitude_degrees\n",
              "1 EBCI      CRL       BRUSSELS SOUTH CHARLEROI BELGIUM 50              \n",
              "  latitude_minutes latitude_seconds latitude_direction longitude_degrees\n",
              "1 27               33               N                  4                \n",
              "  longitude_minutes longitude_seconds longitude_direction altitude\n",
              "1 27                13                E                   188     \n",
              "  latitude_decimal_degrees longitude_decimal_degrees\n",
              "1 50.459                   4.454                    "
            ]
          },
          "metadata": {}
        }
      ]
    },
    {
      "cell_type": "code",
      "source": [
        "airports <- airports %>% mutate(country = str_to_title(country))\n",
        "head(airports)"
      ],
      "metadata": {
        "colab": {
          "base_uri": "https://localhost:8080/",
          "height": 515
        },
        "id": "bx1YJ9MIdFcP",
        "outputId": "ff27ebc2-6839-477d-c4ce-e2caaf32ad83"
      },
      "execution_count": null,
      "outputs": [
        {
          "output_type": "display_data",
          "data": {
            "text/html": [
              "<table class=\"dataframe\">\n",
              "<caption>A tibble: 6 × 16</caption>\n",
              "<thead>\n",
              "\t<tr><th scope=col>icao_code</th><th scope=col>iata_code</th><th scope=col>airport_name</th><th scope=col>city</th><th scope=col>country</th><th scope=col>latitude_degrees</th><th scope=col>latitude_minutes</th><th scope=col>latitude_seconds</th><th scope=col>latitude_direction</th><th scope=col>longitude_degrees</th><th scope=col>longitude_minutes</th><th scope=col>longitude_seconds</th><th scope=col>longitude_direction</th><th scope=col>altitude</th><th scope=col>latitude_decimal_degrees</th><th scope=col>longitude_decimal_degrees</th></tr>\n",
              "\t<tr><th scope=col>&lt;chr&gt;</th><th scope=col>&lt;chr&gt;</th><th scope=col>&lt;chr&gt;</th><th scope=col>&lt;chr&gt;</th><th scope=col>&lt;chr&gt;</th><th scope=col>&lt;dbl&gt;</th><th scope=col>&lt;dbl&gt;</th><th scope=col>&lt;dbl&gt;</th><th scope=col>&lt;chr&gt;</th><th scope=col>&lt;dbl&gt;</th><th scope=col>&lt;dbl&gt;</th><th scope=col>&lt;dbl&gt;</th><th scope=col>&lt;chr&gt;</th><th scope=col>&lt;dbl&gt;</th><th scope=col>&lt;chr&gt;</th><th scope=col>&lt;chr&gt;</th></tr>\n",
              "</thead>\n",
              "<tbody>\n",
              "\t<tr><td>AYGA</td><td>GKA</td><td>GOROKA                             </td><td>GOROKA      </td><td>Papua New Guinea</td><td>6</td><td> 4</td><td>54</td><td>S</td><td>145</td><td>23</td><td>30</td><td>E</td><td>1610</td><td>-6.082</td><td>145.392</td></tr>\n",
              "\t<tr><td>AYLA</td><td>LAE</td><td>N/A                                </td><td>LAE         </td><td>Papua New Guinea</td><td>0</td><td> 0</td><td> 0</td><td>U</td><td>  0</td><td> 0</td><td> 0</td><td>U</td><td>   0</td><td>0.000 </td><td>0.000  </td></tr>\n",
              "\t<tr><td>AYMD</td><td>MAG</td><td>MADANG                             </td><td>MADANG      </td><td>Papua New Guinea</td><td>5</td><td>12</td><td>25</td><td>S</td><td>145</td><td>47</td><td>19</td><td>E</td><td>   7</td><td>-5.207</td><td>145.789</td></tr>\n",
              "\t<tr><td>AYMH</td><td>HGU</td><td>MOUNT HAGEN                        </td><td>MOUNT HAGEN </td><td>Papua New Guinea</td><td>5</td><td>49</td><td>34</td><td>S</td><td>144</td><td>17</td><td>46</td><td>E</td><td>1643</td><td>-5.826</td><td>144.296</td></tr>\n",
              "\t<tr><td>AYNZ</td><td>LAE</td><td>NADZAB                             </td><td>NADZAB      </td><td>Papua New Guinea</td><td>6</td><td>34</td><td>11</td><td>S</td><td>146</td><td>43</td><td>34</td><td>E</td><td>  73</td><td>-6.570</td><td>146.726</td></tr>\n",
              "\t<tr><td>AYPY</td><td>POM</td><td>PORT MORESBY JACKSONS INTERNATIONAL</td><td>PORT MORESBY</td><td>Papua New Guinea</td><td>9</td><td>26</td><td>36</td><td>S</td><td>147</td><td>13</td><td>12</td><td>E</td><td>  45</td><td>-9.443</td><td>147.220</td></tr>\n",
              "</tbody>\n",
              "</table>\n"
            ],
            "text/markdown": "\nA tibble: 6 × 16\n\n| icao_code &lt;chr&gt; | iata_code &lt;chr&gt; | airport_name &lt;chr&gt; | city &lt;chr&gt; | country &lt;chr&gt; | latitude_degrees &lt;dbl&gt; | latitude_minutes &lt;dbl&gt; | latitude_seconds &lt;dbl&gt; | latitude_direction &lt;chr&gt; | longitude_degrees &lt;dbl&gt; | longitude_minutes &lt;dbl&gt; | longitude_seconds &lt;dbl&gt; | longitude_direction &lt;chr&gt; | altitude &lt;dbl&gt; | latitude_decimal_degrees &lt;chr&gt; | longitude_decimal_degrees &lt;chr&gt; |\n|---|---|---|---|---|---|---|---|---|---|---|---|---|---|---|---|\n| AYGA | GKA | GOROKA                              | GOROKA       | Papua New Guinea | 6 |  4 | 54 | S | 145 | 23 | 30 | E | 1610 | -6.082 | 145.392 |\n| AYLA | LAE | N/A                                 | LAE          | Papua New Guinea | 0 |  0 |  0 | U |   0 |  0 |  0 | U |    0 | 0.000  | 0.000   |\n| AYMD | MAG | MADANG                              | MADANG       | Papua New Guinea | 5 | 12 | 25 | S | 145 | 47 | 19 | E |    7 | -5.207 | 145.789 |\n| AYMH | HGU | MOUNT HAGEN                         | MOUNT HAGEN  | Papua New Guinea | 5 | 49 | 34 | S | 144 | 17 | 46 | E | 1643 | -5.826 | 144.296 |\n| AYNZ | LAE | NADZAB                              | NADZAB       | Papua New Guinea | 6 | 34 | 11 | S | 146 | 43 | 34 | E |   73 | -6.570 | 146.726 |\n| AYPY | POM | PORT MORESBY JACKSONS INTERNATIONAL | PORT MORESBY | Papua New Guinea | 9 | 26 | 36 | S | 147 | 13 | 12 | E |   45 | -9.443 | 147.220 |\n\n",
            "text/latex": "A tibble: 6 × 16\n\\begin{tabular}{llllllllllllllll}\n icao\\_code & iata\\_code & airport\\_name & city & country & latitude\\_degrees & latitude\\_minutes & latitude\\_seconds & latitude\\_direction & longitude\\_degrees & longitude\\_minutes & longitude\\_seconds & longitude\\_direction & altitude & latitude\\_decimal\\_degrees & longitude\\_decimal\\_degrees\\\\\n <chr> & <chr> & <chr> & <chr> & <chr> & <dbl> & <dbl> & <dbl> & <chr> & <dbl> & <dbl> & <dbl> & <chr> & <dbl> & <chr> & <chr>\\\\\n\\hline\n\t AYGA & GKA & GOROKA                              & GOROKA       & Papua New Guinea & 6 &  4 & 54 & S & 145 & 23 & 30 & E & 1610 & -6.082 & 145.392\\\\\n\t AYLA & LAE & N/A                                 & LAE          & Papua New Guinea & 0 &  0 &  0 & U &   0 &  0 &  0 & U &    0 & 0.000  & 0.000  \\\\\n\t AYMD & MAG & MADANG                              & MADANG       & Papua New Guinea & 5 & 12 & 25 & S & 145 & 47 & 19 & E &    7 & -5.207 & 145.789\\\\\n\t AYMH & HGU & MOUNT HAGEN                         & MOUNT HAGEN  & Papua New Guinea & 5 & 49 & 34 & S & 144 & 17 & 46 & E & 1643 & -5.826 & 144.296\\\\\n\t AYNZ & LAE & NADZAB                              & NADZAB       & Papua New Guinea & 6 & 34 & 11 & S & 146 & 43 & 34 & E &   73 & -6.570 & 146.726\\\\\n\t AYPY & POM & PORT MORESBY JACKSONS INTERNATIONAL & PORT MORESBY & Papua New Guinea & 9 & 26 & 36 & S & 147 & 13 & 12 & E &   45 & -9.443 & 147.220\\\\\n\\end{tabular}\n",
            "text/plain": [
              "  icao_code iata_code airport_name                        city        \n",
              "1 AYGA      GKA       GOROKA                              GOROKA      \n",
              "2 AYLA      LAE       N/A                                 LAE         \n",
              "3 AYMD      MAG       MADANG                              MADANG      \n",
              "4 AYMH      HGU       MOUNT HAGEN                         MOUNT HAGEN \n",
              "5 AYNZ      LAE       NADZAB                              NADZAB      \n",
              "6 AYPY      POM       PORT MORESBY JACKSONS INTERNATIONAL PORT MORESBY\n",
              "  country          latitude_degrees latitude_minutes latitude_seconds\n",
              "1 Papua New Guinea 6                 4               54              \n",
              "2 Papua New Guinea 0                 0                0              \n",
              "3 Papua New Guinea 5                12               25              \n",
              "4 Papua New Guinea 5                49               34              \n",
              "5 Papua New Guinea 6                34               11              \n",
              "6 Papua New Guinea 9                26               36              \n",
              "  latitude_direction longitude_degrees longitude_minutes longitude_seconds\n",
              "1 S                  145               23                30               \n",
              "2 U                    0                0                 0               \n",
              "3 S                  145               47                19               \n",
              "4 S                  144               17                46               \n",
              "5 S                  146               43                34               \n",
              "6 S                  147               13                12               \n",
              "  longitude_direction altitude latitude_decimal_degrees\n",
              "1 E                   1610     -6.082                  \n",
              "2 U                      0     0.000                   \n",
              "3 E                      7     -5.207                  \n",
              "4 E                   1643     -5.826                  \n",
              "5 E                     73     -6.570                  \n",
              "6 E                     45     -9.443                  \n",
              "  longitude_decimal_degrees\n",
              "1 145.392                  \n",
              "2 0.000                    \n",
              "3 145.789                  \n",
              "4 144.296                  \n",
              "5 146.726                  \n",
              "6 147.220                  "
            ]
          },
          "metadata": {}
        }
      ]
    },
    {
      "cell_type": "markdown",
      "source": [
        "## {map} library!"
      ],
      "metadata": {
        "id": "W7ZMduhhc90n"
      }
    },
    {
      "cell_type": "code",
      "source": [
        "install.packages(\"maps\")\n",
        "library(maps)"
      ],
      "metadata": {
        "id": "4GGU0zwfYxFJ",
        "colab": {
          "base_uri": "https://localhost:8080/"
        },
        "outputId": "c30fa544-caee-4728-b169-785b51fcbcdc"
      },
      "execution_count": null,
      "outputs": [
        {
          "output_type": "stream",
          "name": "stderr",
          "text": [
            "Installing package into ‘/usr/local/lib/R/site-library’\n",
            "(as ‘lib’ is unspecified)\n",
            "\n",
            "\n",
            "Attaching package: ‘maps’\n",
            "\n",
            "\n",
            "The following object is masked from ‘package:purrr’:\n",
            "\n",
            "    map\n",
            "\n",
            "\n"
          ]
        }
      ]
    },
    {
      "cell_type": "code",
      "source": [
        "map_data(\"world\") %>% filter(region == \"Germany\") %>% head(4)"
      ],
      "metadata": {
        "colab": {
          "base_uri": "https://localhost:8080/",
          "height": 224
        },
        "id": "0_ftHiuTYxCZ",
        "outputId": "4081d7a7-b9ad-4add-c2b2-d072e5a16634"
      },
      "execution_count": null,
      "outputs": [
        {
          "output_type": "display_data",
          "data": {
            "text/html": [
              "<table class=\"dataframe\">\n",
              "<caption>A data.frame: 4 × 6</caption>\n",
              "<thead>\n",
              "\t<tr><th></th><th scope=col>long</th><th scope=col>lat</th><th scope=col>group</th><th scope=col>order</th><th scope=col>region</th><th scope=col>subregion</th></tr>\n",
              "\t<tr><th></th><th scope=col>&lt;dbl&gt;</th><th scope=col>&lt;dbl&gt;</th><th scope=col>&lt;dbl&gt;</th><th scope=col>&lt;int&gt;</th><th scope=col>&lt;chr&gt;</th><th scope=col>&lt;chr&gt;</th></tr>\n",
              "</thead>\n",
              "<tbody>\n",
              "\t<tr><th scope=row>1</th><td>14.21367</td><td>53.87075</td><td>465</td><td>34563</td><td>Germany</td><td>Usedom</td></tr>\n",
              "\t<tr><th scope=row>2</th><td>14.17217</td><td>53.87437</td><td>465</td><td>34564</td><td>Germany</td><td>Usedom</td></tr>\n",
              "\t<tr><th scope=row>3</th><td>14.04834</td><td>53.86309</td><td>465</td><td>34565</td><td>Germany</td><td>Usedom</td></tr>\n",
              "\t<tr><th scope=row>4</th><td>13.92578</td><td>53.87905</td><td>465</td><td>34566</td><td>Germany</td><td>Usedom</td></tr>\n",
              "</tbody>\n",
              "</table>\n"
            ],
            "text/markdown": "\nA data.frame: 4 × 6\n\n| <!--/--> | long &lt;dbl&gt; | lat &lt;dbl&gt; | group &lt;dbl&gt; | order &lt;int&gt; | region &lt;chr&gt; | subregion &lt;chr&gt; |\n|---|---|---|---|---|---|---|\n| 1 | 14.21367 | 53.87075 | 465 | 34563 | Germany | Usedom |\n| 2 | 14.17217 | 53.87437 | 465 | 34564 | Germany | Usedom |\n| 3 | 14.04834 | 53.86309 | 465 | 34565 | Germany | Usedom |\n| 4 | 13.92578 | 53.87905 | 465 | 34566 | Germany | Usedom |\n\n",
            "text/latex": "A data.frame: 4 × 6\n\\begin{tabular}{r|llllll}\n  & long & lat & group & order & region & subregion\\\\\n  & <dbl> & <dbl> & <dbl> & <int> & <chr> & <chr>\\\\\n\\hline\n\t1 & 14.21367 & 53.87075 & 465 & 34563 & Germany & Usedom\\\\\n\t2 & 14.17217 & 53.87437 & 465 & 34564 & Germany & Usedom\\\\\n\t3 & 14.04834 & 53.86309 & 465 & 34565 & Germany & Usedom\\\\\n\t4 & 13.92578 & 53.87905 & 465 & 34566 & Germany & Usedom\\\\\n\\end{tabular}\n",
            "text/plain": [
              "  long     lat      group order region  subregion\n",
              "1 14.21367 53.87075 465   34563 Germany Usedom   \n",
              "2 14.17217 53.87437 465   34564 Germany Usedom   \n",
              "3 14.04834 53.86309 465   34565 Germany Usedom   \n",
              "4 13.92578 53.87905 465   34566 Germany Usedom   "
            ]
          },
          "metadata": {}
        }
      ]
    },
    {
      "cell_type": "markdown",
      "source": [
        "### Step X1 Get the world polygon and extract necessary countries"
      ],
      "metadata": {
        "id": "Rt9tZ_9GcmiI"
      }
    },
    {
      "cell_type": "code",
      "source": [
        "flights <- flights %>% mutate(STATE_NAME = str_replace(STATE_NAME, \"United Kingdom\", \"UK\"))\n",
        "\n",
        "flights <- flights %>% mutate(STATE_NAME = str_replace(STATE_NAME, \"Türkiye\", \"Turkey\"))\n"
      ],
      "metadata": {
        "id": "snNF4cBIHruI"
      },
      "execution_count": null,
      "outputs": []
    },
    {
      "cell_type": "code",
      "source": [
        "flights %>% select(STATE_NAME) %>% distinct()"
      ],
      "metadata": {
        "id": "3iN71mDNFKG0"
      },
      "execution_count": null,
      "outputs": []
    },
    {
      "cell_type": "code",
      "source": [
        "EU_borders <- map_data(\"world\") %>% filter(region %in% flights$STATE_NAME )\n",
        "#EU_borders <- map_data(\"world\") %>% filter(region == \"UK\")\n",
        "head(EU_borders)"
      ],
      "metadata": {
        "colab": {
          "base_uri": "https://localhost:8080/",
          "height": 286
        },
        "id": "uYl8U7cfcA-4",
        "outputId": "c412cc71-a110-4afa-fcd2-aa510a5ae2f6"
      },
      "execution_count": null,
      "outputs": [
        {
          "output_type": "display_data",
          "data": {
            "text/html": [
              "<table class=\"dataframe\">\n",
              "<caption>A data.frame: 6 × 6</caption>\n",
              "<thead>\n",
              "\t<tr><th></th><th scope=col>long</th><th scope=col>lat</th><th scope=col>group</th><th scope=col>order</th><th scope=col>region</th><th scope=col>subregion</th></tr>\n",
              "\t<tr><th></th><th scope=col>&lt;dbl&gt;</th><th scope=col>&lt;dbl&gt;</th><th scope=col>&lt;dbl&gt;</th><th scope=col>&lt;int&gt;</th><th scope=col>&lt;chr&gt;</th><th scope=col>&lt;chr&gt;</th></tr>\n",
              "</thead>\n",
              "<tbody>\n",
              "\t<tr><th scope=row>1</th><td>20.06396</td><td>42.54727</td><td>6</td><td>770</td><td>Albania</td><td>NA</td></tr>\n",
              "\t<tr><th scope=row>2</th><td>20.10352</td><td>42.52466</td><td>6</td><td>771</td><td>Albania</td><td>NA</td></tr>\n",
              "\t<tr><th scope=row>3</th><td>20.18574</td><td>42.42588</td><td>6</td><td>772</td><td>Albania</td><td>NA</td></tr>\n",
              "\t<tr><th scope=row>4</th><td>20.24053</td><td>42.33897</td><td>6</td><td>773</td><td>Albania</td><td>NA</td></tr>\n",
              "\t<tr><th scope=row>5</th><td>20.34824</td><td>42.30879</td><td>6</td><td>774</td><td>Albania</td><td>NA</td></tr>\n",
              "\t<tr><th scope=row>6</th><td>20.40830</td><td>42.27495</td><td>6</td><td>775</td><td>Albania</td><td>NA</td></tr>\n",
              "</tbody>\n",
              "</table>\n"
            ],
            "text/markdown": "\nA data.frame: 6 × 6\n\n| <!--/--> | long &lt;dbl&gt; | lat &lt;dbl&gt; | group &lt;dbl&gt; | order &lt;int&gt; | region &lt;chr&gt; | subregion &lt;chr&gt; |\n|---|---|---|---|---|---|---|\n| 1 | 20.06396 | 42.54727 | 6 | 770 | Albania | NA |\n| 2 | 20.10352 | 42.52466 | 6 | 771 | Albania | NA |\n| 3 | 20.18574 | 42.42588 | 6 | 772 | Albania | NA |\n| 4 | 20.24053 | 42.33897 | 6 | 773 | Albania | NA |\n| 5 | 20.34824 | 42.30879 | 6 | 774 | Albania | NA |\n| 6 | 20.40830 | 42.27495 | 6 | 775 | Albania | NA |\n\n",
            "text/latex": "A data.frame: 6 × 6\n\\begin{tabular}{r|llllll}\n  & long & lat & group & order & region & subregion\\\\\n  & <dbl> & <dbl> & <dbl> & <int> & <chr> & <chr>\\\\\n\\hline\n\t1 & 20.06396 & 42.54727 & 6 & 770 & Albania & NA\\\\\n\t2 & 20.10352 & 42.52466 & 6 & 771 & Albania & NA\\\\\n\t3 & 20.18574 & 42.42588 & 6 & 772 & Albania & NA\\\\\n\t4 & 20.24053 & 42.33897 & 6 & 773 & Albania & NA\\\\\n\t5 & 20.34824 & 42.30879 & 6 & 774 & Albania & NA\\\\\n\t6 & 20.40830 & 42.27495 & 6 & 775 & Albania & NA\\\\\n\\end{tabular}\n",
            "text/plain": [
              "  long     lat      group order region  subregion\n",
              "1 20.06396 42.54727 6     770   Albania NA       \n",
              "2 20.10352 42.52466 6     771   Albania NA       \n",
              "3 20.18574 42.42588 6     772   Albania NA       \n",
              "4 20.24053 42.33897 6     773   Albania NA       \n",
              "5 20.34824 42.30879 6     774   Albania NA       \n",
              "6 20.40830 42.27495 6     775   Albania NA       "
            ]
          },
          "metadata": {}
        }
      ]
    },
    {
      "cell_type": "code",
      "source": [
        "EU_borders %>% select(region) %>% distinct()"
      ],
      "metadata": {
        "colab": {
          "base_uri": "https://localhost:8080/",
          "height": 1000
        },
        "id": "OvhhLIwsFcmr",
        "outputId": "45f53a1b-f0b8-41eb-edee-9b962b72e666"
      },
      "execution_count": null,
      "outputs": [
        {
          "output_type": "display_data",
          "data": {
            "text/html": [
              "<table class=\"dataframe\">\n",
              "<caption>A data.frame: 40 × 1</caption>\n",
              "<thead>\n",
              "\t<tr><th scope=col>region</th></tr>\n",
              "\t<tr><th scope=col>&lt;chr&gt;</th></tr>\n",
              "</thead>\n",
              "<tbody>\n",
              "\t<tr><td>Albania               </td></tr>\n",
              "\t<tr><td>Finland               </td></tr>\n",
              "\t<tr><td>Armenia               </td></tr>\n",
              "\t<tr><td>Austria               </td></tr>\n",
              "\t<tr><td>Belgium               </td></tr>\n",
              "\t<tr><td>Bulgaria              </td></tr>\n",
              "\t<tr><td>Bosnia and Herzegovina</td></tr>\n",
              "\t<tr><td>Switzerland           </td></tr>\n",
              "\t<tr><td>Cyprus                </td></tr>\n",
              "\t<tr><td>Czech Republic        </td></tr>\n",
              "\t<tr><td>Germany               </td></tr>\n",
              "\t<tr><td>Denmark               </td></tr>\n",
              "\t<tr><td>Spain                 </td></tr>\n",
              "\t<tr><td>Estonia               </td></tr>\n",
              "\t<tr><td>France                </td></tr>\n",
              "\t<tr><td>UK                    </td></tr>\n",
              "\t<tr><td>Georgia               </td></tr>\n",
              "\t<tr><td>Greece                </td></tr>\n",
              "\t<tr><td>Croatia               </td></tr>\n",
              "\t<tr><td>Hungary               </td></tr>\n",
              "\t<tr><td>Ireland               </td></tr>\n",
              "\t<tr><td>Israel                </td></tr>\n",
              "\t<tr><td>Italy                 </td></tr>\n",
              "\t<tr><td>Lithuania             </td></tr>\n",
              "\t<tr><td>Luxembourg            </td></tr>\n",
              "\t<tr><td>Latvia                </td></tr>\n",
              "\t<tr><td>Morocco               </td></tr>\n",
              "\t<tr><td>Moldova               </td></tr>\n",
              "\t<tr><td>Malta                 </td></tr>\n",
              "\t<tr><td>Montenegro            </td></tr>\n",
              "\t<tr><td>Netherlands           </td></tr>\n",
              "\t<tr><td>Norway                </td></tr>\n",
              "\t<tr><td>Poland                </td></tr>\n",
              "\t<tr><td>Portugal              </td></tr>\n",
              "\t<tr><td>Romania               </td></tr>\n",
              "\t<tr><td>Serbia                </td></tr>\n",
              "\t<tr><td>Slovakia              </td></tr>\n",
              "\t<tr><td>Slovenia              </td></tr>\n",
              "\t<tr><td>Sweden                </td></tr>\n",
              "\t<tr><td>Ukraine               </td></tr>\n",
              "</tbody>\n",
              "</table>\n"
            ],
            "text/markdown": "\nA data.frame: 40 × 1\n\n| region &lt;chr&gt; |\n|---|\n| Albania                |\n| Finland                |\n| Armenia                |\n| Austria                |\n| Belgium                |\n| Bulgaria               |\n| Bosnia and Herzegovina |\n| Switzerland            |\n| Cyprus                 |\n| Czech Republic         |\n| Germany                |\n| Denmark                |\n| Spain                  |\n| Estonia                |\n| France                 |\n| UK                     |\n| Georgia                |\n| Greece                 |\n| Croatia                |\n| Hungary                |\n| Ireland                |\n| Israel                 |\n| Italy                  |\n| Lithuania              |\n| Luxembourg             |\n| Latvia                 |\n| Morocco                |\n| Moldova                |\n| Malta                  |\n| Montenegro             |\n| Netherlands            |\n| Norway                 |\n| Poland                 |\n| Portugal               |\n| Romania                |\n| Serbia                 |\n| Slovakia               |\n| Slovenia               |\n| Sweden                 |\n| Ukraine                |\n\n",
            "text/latex": "A data.frame: 40 × 1\n\\begin{tabular}{l}\n region\\\\\n <chr>\\\\\n\\hline\n\t Albania               \\\\\n\t Finland               \\\\\n\t Armenia               \\\\\n\t Austria               \\\\\n\t Belgium               \\\\\n\t Bulgaria              \\\\\n\t Bosnia and Herzegovina\\\\\n\t Switzerland           \\\\\n\t Cyprus                \\\\\n\t Czech Republic        \\\\\n\t Germany               \\\\\n\t Denmark               \\\\\n\t Spain                 \\\\\n\t Estonia               \\\\\n\t France                \\\\\n\t UK                    \\\\\n\t Georgia               \\\\\n\t Greece                \\\\\n\t Croatia               \\\\\n\t Hungary               \\\\\n\t Ireland               \\\\\n\t Israel                \\\\\n\t Italy                 \\\\\n\t Lithuania             \\\\\n\t Luxembourg            \\\\\n\t Latvia                \\\\\n\t Morocco               \\\\\n\t Moldova               \\\\\n\t Malta                 \\\\\n\t Montenegro            \\\\\n\t Netherlands           \\\\\n\t Norway                \\\\\n\t Poland                \\\\\n\t Portugal              \\\\\n\t Romania               \\\\\n\t Serbia                \\\\\n\t Slovakia              \\\\\n\t Slovenia              \\\\\n\t Sweden                \\\\\n\t Ukraine               \\\\\n\\end{tabular}\n",
            "text/plain": [
              "   region                \n",
              "1  Albania               \n",
              "2  Finland               \n",
              "3  Armenia               \n",
              "4  Austria               \n",
              "5  Belgium               \n",
              "6  Bulgaria              \n",
              "7  Bosnia and Herzegovina\n",
              "8  Switzerland           \n",
              "9  Cyprus                \n",
              "10 Czech Republic        \n",
              "11 Germany               \n",
              "12 Denmark               \n",
              "13 Spain                 \n",
              "14 Estonia               \n",
              "15 France                \n",
              "16 UK                    \n",
              "17 Georgia               \n",
              "18 Greece                \n",
              "19 Croatia               \n",
              "20 Hungary               \n",
              "21 Ireland               \n",
              "22 Israel                \n",
              "23 Italy                 \n",
              "24 Lithuania             \n",
              "25 Luxembourg            \n",
              "26 Latvia                \n",
              "27 Morocco               \n",
              "28 Moldova               \n",
              "29 Malta                 \n",
              "30 Montenegro            \n",
              "31 Netherlands           \n",
              "32 Norway                \n",
              "33 Poland                \n",
              "34 Portugal              \n",
              "35 Romania               \n",
              "36 Serbia                \n",
              "37 Slovakia              \n",
              "38 Slovenia              \n",
              "39 Sweden                \n",
              "40 Ukraine               "
            ]
          },
          "metadata": {}
        }
      ]
    },
    {
      "cell_type": "code",
      "source": [
        "head(flights, 2)"
      ],
      "metadata": {
        "colab": {
          "base_uri": "https://localhost:8080/",
          "height": 233
        },
        "id": "qttkOM29Z2m3",
        "outputId": "fda3652a-2554-4cc3-a555-9e22055f9b7d"
      },
      "execution_count": null,
      "outputs": [
        {
          "output_type": "display_data",
          "data": {
            "text/html": [
              "<table class=\"dataframe\">\n",
              "<caption>A tibble: 2 × 14</caption>\n",
              "<thead>\n",
              "\t<tr><th scope=col>YEAR</th><th scope=col>MONTH_NUM</th><th scope=col>MONTH_MON</th><th scope=col>FLT_DATE</th><th scope=col>APT_ICAO</th><th scope=col>APT_NAME</th><th scope=col>STATE_NAME</th><th scope=col>FLT_DEP_1</th><th scope=col>FLT_ARR_1</th><th scope=col>FLT_TOT_1</th><th scope=col>FLT_DEP_IFR_2</th><th scope=col>FLT_ARR_IFR_2</th><th scope=col>FLT_TOT_IFR_2</th><th scope=col>Pivot Label</th></tr>\n",
              "\t<tr><th scope=col>&lt;dbl&gt;</th><th scope=col>&lt;chr&gt;</th><th scope=col>&lt;chr&gt;</th><th scope=col>&lt;dttm&gt;</th><th scope=col>&lt;chr&gt;</th><th scope=col>&lt;chr&gt;</th><th scope=col>&lt;chr&gt;</th><th scope=col>&lt;dbl&gt;</th><th scope=col>&lt;dbl&gt;</th><th scope=col>&lt;dbl&gt;</th><th scope=col>&lt;dbl&gt;</th><th scope=col>&lt;dbl&gt;</th><th scope=col>&lt;dbl&gt;</th><th scope=col>&lt;chr&gt;</th></tr>\n",
              "</thead>\n",
              "<tbody>\n",
              "\t<tr><td>2016</td><td>01</td><td>JAN</td><td>2016-01-01</td><td>EBAW</td><td>Antwerp </td><td>Belgium</td><td>  4</td><td>  3</td><td>  7</td><td> NA</td><td> NA</td><td> NA</td><td>Antwerp (EBAW) </td></tr>\n",
              "\t<tr><td>2016</td><td>01</td><td>JAN</td><td>2016-01-01</td><td>EBBR</td><td>Brussels</td><td>Belgium</td><td>174</td><td>171</td><td>345</td><td>174</td><td>161</td><td>335</td><td>Brussels (EBBR)</td></tr>\n",
              "</tbody>\n",
              "</table>\n"
            ],
            "text/markdown": "\nA tibble: 2 × 14\n\n| YEAR &lt;dbl&gt; | MONTH_NUM &lt;chr&gt; | MONTH_MON &lt;chr&gt; | FLT_DATE &lt;dttm&gt; | APT_ICAO &lt;chr&gt; | APT_NAME &lt;chr&gt; | STATE_NAME &lt;chr&gt; | FLT_DEP_1 &lt;dbl&gt; | FLT_ARR_1 &lt;dbl&gt; | FLT_TOT_1 &lt;dbl&gt; | FLT_DEP_IFR_2 &lt;dbl&gt; | FLT_ARR_IFR_2 &lt;dbl&gt; | FLT_TOT_IFR_2 &lt;dbl&gt; | Pivot Label &lt;chr&gt; |\n|---|---|---|---|---|---|---|---|---|---|---|---|---|---|\n| 2016 | 01 | JAN | 2016-01-01 | EBAW | Antwerp  | Belgium |   4 |   3 |   7 |  NA |  NA |  NA | Antwerp (EBAW)  |\n| 2016 | 01 | JAN | 2016-01-01 | EBBR | Brussels | Belgium | 174 | 171 | 345 | 174 | 161 | 335 | Brussels (EBBR) |\n\n",
            "text/latex": "A tibble: 2 × 14\n\\begin{tabular}{llllllllllllll}\n YEAR & MONTH\\_NUM & MONTH\\_MON & FLT\\_DATE & APT\\_ICAO & APT\\_NAME & STATE\\_NAME & FLT\\_DEP\\_1 & FLT\\_ARR\\_1 & FLT\\_TOT\\_1 & FLT\\_DEP\\_IFR\\_2 & FLT\\_ARR\\_IFR\\_2 & FLT\\_TOT\\_IFR\\_2 & Pivot Label\\\\\n <dbl> & <chr> & <chr> & <dttm> & <chr> & <chr> & <chr> & <dbl> & <dbl> & <dbl> & <dbl> & <dbl> & <dbl> & <chr>\\\\\n\\hline\n\t 2016 & 01 & JAN & 2016-01-01 & EBAW & Antwerp  & Belgium &   4 &   3 &   7 &  NA &  NA &  NA & Antwerp (EBAW) \\\\\n\t 2016 & 01 & JAN & 2016-01-01 & EBBR & Brussels & Belgium & 174 & 171 & 345 & 174 & 161 & 335 & Brussels (EBBR)\\\\\n\\end{tabular}\n",
            "text/plain": [
              "  YEAR MONTH_NUM MONTH_MON FLT_DATE   APT_ICAO APT_NAME STATE_NAME FLT_DEP_1\n",
              "1 2016 01        JAN       2016-01-01 EBAW     Antwerp  Belgium      4      \n",
              "2 2016 01        JAN       2016-01-01 EBBR     Brussels Belgium    174      \n",
              "  FLT_ARR_1 FLT_TOT_1 FLT_DEP_IFR_2 FLT_ARR_IFR_2 FLT_TOT_IFR_2 Pivot Label    \n",
              "1   3         7        NA            NA            NA           Antwerp (EBAW) \n",
              "2 171       345       174           161           335           Brussels (EBBR)"
            ]
          },
          "metadata": {}
        }
      ]
    },
    {
      "cell_type": "code",
      "source": [
        "flights %>% left_join(airports, by = c(\"APT_ICAO\" = \"icao_code\")) %>% head(2) "
      ],
      "metadata": {
        "colab": {
          "base_uri": "https://localhost:8080/",
          "height": 215
        },
        "id": "4vrLj3JFhnZd",
        "outputId": "ed81655f-347e-45c4-bc50-ea2f2c8773b6"
      },
      "execution_count": null,
      "outputs": [
        {
          "output_type": "display_data",
          "data": {
            "text/html": [
              "<table class=\"dataframe\">\n",
              "<caption>A tibble: 2 × 29</caption>\n",
              "<thead>\n",
              "\t<tr><th scope=col>YEAR</th><th scope=col>MONTH_NUM</th><th scope=col>MONTH_MON</th><th scope=col>FLT_DATE</th><th scope=col>APT_ICAO</th><th scope=col>APT_NAME</th><th scope=col>STATE_NAME</th><th scope=col>FLT_DEP_1</th><th scope=col>FLT_ARR_1</th><th scope=col>FLT_TOT_1</th><th scope=col>⋯</th><th scope=col>latitude_minutes</th><th scope=col>latitude_seconds</th><th scope=col>latitude_direction</th><th scope=col>longitude_degrees</th><th scope=col>longitude_minutes</th><th scope=col>longitude_seconds</th><th scope=col>longitude_direction</th><th scope=col>altitude</th><th scope=col>latitude_decimal_degrees</th><th scope=col>longitude_decimal_degrees</th></tr>\n",
              "\t<tr><th scope=col>&lt;dbl&gt;</th><th scope=col>&lt;chr&gt;</th><th scope=col>&lt;chr&gt;</th><th scope=col>&lt;dttm&gt;</th><th scope=col>&lt;chr&gt;</th><th scope=col>&lt;chr&gt;</th><th scope=col>&lt;chr&gt;</th><th scope=col>&lt;dbl&gt;</th><th scope=col>&lt;dbl&gt;</th><th scope=col>&lt;dbl&gt;</th><th scope=col>⋯</th><th scope=col>&lt;dbl&gt;</th><th scope=col>&lt;dbl&gt;</th><th scope=col>&lt;chr&gt;</th><th scope=col>&lt;dbl&gt;</th><th scope=col>&lt;dbl&gt;</th><th scope=col>&lt;dbl&gt;</th><th scope=col>&lt;chr&gt;</th><th scope=col>&lt;dbl&gt;</th><th scope=col>&lt;chr&gt;</th><th scope=col>&lt;chr&gt;</th></tr>\n",
              "</thead>\n",
              "<tbody>\n",
              "\t<tr><td>2016</td><td>01</td><td>JAN</td><td>2016-01-01</td><td>EBAW</td><td>Antwerp </td><td>Belgium</td><td>  4</td><td>  3</td><td>  7</td><td>⋯</td><td>11</td><td>24</td><td>N</td><td>4</td><td>27</td><td>46</td><td>E</td><td>12</td><td>51.190</td><td>4.463</td></tr>\n",
              "\t<tr><td>2016</td><td>01</td><td>JAN</td><td>2016-01-01</td><td>EBBR</td><td>Brussels</td><td>Belgium</td><td>174</td><td>171</td><td>345</td><td>⋯</td><td>54</td><td> 8</td><td>N</td><td>4</td><td>29</td><td>55</td><td>E</td><td>57</td><td>50.902</td><td>4.499</td></tr>\n",
              "</tbody>\n",
              "</table>\n"
            ],
            "text/markdown": "\nA tibble: 2 × 29\n\n| YEAR &lt;dbl&gt; | MONTH_NUM &lt;chr&gt; | MONTH_MON &lt;chr&gt; | FLT_DATE &lt;dttm&gt; | APT_ICAO &lt;chr&gt; | APT_NAME &lt;chr&gt; | STATE_NAME &lt;chr&gt; | FLT_DEP_1 &lt;dbl&gt; | FLT_ARR_1 &lt;dbl&gt; | FLT_TOT_1 &lt;dbl&gt; | ⋯ ⋯ | latitude_minutes &lt;dbl&gt; | latitude_seconds &lt;dbl&gt; | latitude_direction &lt;chr&gt; | longitude_degrees &lt;dbl&gt; | longitude_minutes &lt;dbl&gt; | longitude_seconds &lt;dbl&gt; | longitude_direction &lt;chr&gt; | altitude &lt;dbl&gt; | latitude_decimal_degrees &lt;chr&gt; | longitude_decimal_degrees &lt;chr&gt; |\n|---|---|---|---|---|---|---|---|---|---|---|---|---|---|---|---|---|---|---|---|---|\n| 2016 | 01 | JAN | 2016-01-01 | EBAW | Antwerp  | Belgium |   4 |   3 |   7 | ⋯ | 11 | 24 | N | 4 | 27 | 46 | E | 12 | 51.190 | 4.463 |\n| 2016 | 01 | JAN | 2016-01-01 | EBBR | Brussels | Belgium | 174 | 171 | 345 | ⋯ | 54 |  8 | N | 4 | 29 | 55 | E | 57 | 50.902 | 4.499 |\n\n",
            "text/latex": "A tibble: 2 × 29\n\\begin{tabular}{lllllllllllllllllllll}\n YEAR & MONTH\\_NUM & MONTH\\_MON & FLT\\_DATE & APT\\_ICAO & APT\\_NAME & STATE\\_NAME & FLT\\_DEP\\_1 & FLT\\_ARR\\_1 & FLT\\_TOT\\_1 & ⋯ & latitude\\_minutes & latitude\\_seconds & latitude\\_direction & longitude\\_degrees & longitude\\_minutes & longitude\\_seconds & longitude\\_direction & altitude & latitude\\_decimal\\_degrees & longitude\\_decimal\\_degrees\\\\\n <dbl> & <chr> & <chr> & <dttm> & <chr> & <chr> & <chr> & <dbl> & <dbl> & <dbl> & ⋯ & <dbl> & <dbl> & <chr> & <dbl> & <dbl> & <dbl> & <chr> & <dbl> & <chr> & <chr>\\\\\n\\hline\n\t 2016 & 01 & JAN & 2016-01-01 & EBAW & Antwerp  & Belgium &   4 &   3 &   7 & ⋯ & 11 & 24 & N & 4 & 27 & 46 & E & 12 & 51.190 & 4.463\\\\\n\t 2016 & 01 & JAN & 2016-01-01 & EBBR & Brussels & Belgium & 174 & 171 & 345 & ⋯ & 54 &  8 & N & 4 & 29 & 55 & E & 57 & 50.902 & 4.499\\\\\n\\end{tabular}\n",
            "text/plain": [
              "  YEAR MONTH_NUM MONTH_MON FLT_DATE   APT_ICAO APT_NAME STATE_NAME FLT_DEP_1\n",
              "1 2016 01        JAN       2016-01-01 EBAW     Antwerp  Belgium      4      \n",
              "2 2016 01        JAN       2016-01-01 EBBR     Brussels Belgium    174      \n",
              "  FLT_ARR_1 FLT_TOT_1 ⋯ latitude_minutes latitude_seconds latitude_direction\n",
              "1   3         7       ⋯ 11               24               N                 \n",
              "2 171       345       ⋯ 54                8               N                 \n",
              "  longitude_degrees longitude_minutes longitude_seconds longitude_direction\n",
              "1 4                 27                46                E                  \n",
              "2 4                 29                55                E                  \n",
              "  altitude latitude_decimal_degrees longitude_decimal_degrees\n",
              "1 12       51.190                   4.463                    \n",
              "2 57       50.902                   4.499                    "
            ]
          },
          "metadata": {}
        }
      ]
    },
    {
      "cell_type": "markdown",
      "source": [
        ""
      ],
      "metadata": {
        "id": "5hk4Cxcfn9_L"
      }
    },
    {
      "cell_type": "code",
      "source": [
        "airports_pr <- airports %>% \n",
        "  unite(\"lat\", latitude_degrees, latitude_minutes, sep = \".\") %>% unite(\"lat\", lat, latitude_seconds, sep = \"\")  %>% \n",
        "  unite(\"lon\", longitude_degrees, longitude_minutes, sep = \".\") %>% unite(\"lon\", lon, longitude_seconds, sep = \"\") %>% \n",
        "  mutate(lat = as.numeric(lat), \n",
        "        lon = as.numeric(lon)) %>%\n",
        "  select(icao_code, airport_name, city, country, lat, lon)\n",
        "\n",
        "  head(airports_pr)"
      ],
      "metadata": {
        "colab": {
          "base_uri": "https://localhost:8080/",
          "height": 390
        },
        "id": "yRA24jCCnDoM",
        "outputId": "e7b47786-01ae-42ad-cd22-9ceda8bf836e"
      },
      "execution_count": null,
      "outputs": [
        {
          "output_type": "display_data",
          "data": {
            "text/html": [
              "<table class=\"dataframe\">\n",
              "<caption>A tibble: 6 × 6</caption>\n",
              "<thead>\n",
              "\t<tr><th scope=col>icao_code</th><th scope=col>airport_name</th><th scope=col>city</th><th scope=col>country</th><th scope=col>lat</th><th scope=col>lon</th></tr>\n",
              "\t<tr><th scope=col>&lt;chr&gt;</th><th scope=col>&lt;chr&gt;</th><th scope=col>&lt;chr&gt;</th><th scope=col>&lt;chr&gt;</th><th scope=col>&lt;dbl&gt;</th><th scope=col>&lt;dbl&gt;</th></tr>\n",
              "</thead>\n",
              "<tbody>\n",
              "\t<tr><td>AYGA</td><td>GOROKA                             </td><td>GOROKA      </td><td>Papua New Guinea</td><td>6.4540</td><td>145.2330</td></tr>\n",
              "\t<tr><td>AYLA</td><td>N/A                                </td><td>LAE         </td><td>Papua New Guinea</td><td>0.0000</td><td>  0.0000</td></tr>\n",
              "\t<tr><td>AYMD</td><td>MADANG                             </td><td>MADANG      </td><td>Papua New Guinea</td><td>5.1225</td><td>145.4719</td></tr>\n",
              "\t<tr><td>AYMH</td><td>MOUNT HAGEN                        </td><td>MOUNT HAGEN </td><td>Papua New Guinea</td><td>5.4934</td><td>144.1746</td></tr>\n",
              "\t<tr><td>AYNZ</td><td>NADZAB                             </td><td>NADZAB      </td><td>Papua New Guinea</td><td>6.3411</td><td>146.4334</td></tr>\n",
              "\t<tr><td>AYPY</td><td>PORT MORESBY JACKSONS INTERNATIONAL</td><td>PORT MORESBY</td><td>Papua New Guinea</td><td>9.2636</td><td>147.1312</td></tr>\n",
              "</tbody>\n",
              "</table>\n"
            ],
            "text/markdown": "\nA tibble: 6 × 6\n\n| icao_code &lt;chr&gt; | airport_name &lt;chr&gt; | city &lt;chr&gt; | country &lt;chr&gt; | lat &lt;dbl&gt; | lon &lt;dbl&gt; |\n|---|---|---|---|---|---|\n| AYGA | GOROKA                              | GOROKA       | Papua New Guinea | 6.4540 | 145.2330 |\n| AYLA | N/A                                 | LAE          | Papua New Guinea | 0.0000 |   0.0000 |\n| AYMD | MADANG                              | MADANG       | Papua New Guinea | 5.1225 | 145.4719 |\n| AYMH | MOUNT HAGEN                         | MOUNT HAGEN  | Papua New Guinea | 5.4934 | 144.1746 |\n| AYNZ | NADZAB                              | NADZAB       | Papua New Guinea | 6.3411 | 146.4334 |\n| AYPY | PORT MORESBY JACKSONS INTERNATIONAL | PORT MORESBY | Papua New Guinea | 9.2636 | 147.1312 |\n\n",
            "text/latex": "A tibble: 6 × 6\n\\begin{tabular}{llllll}\n icao\\_code & airport\\_name & city & country & lat & lon\\\\\n <chr> & <chr> & <chr> & <chr> & <dbl> & <dbl>\\\\\n\\hline\n\t AYGA & GOROKA                              & GOROKA       & Papua New Guinea & 6.4540 & 145.2330\\\\\n\t AYLA & N/A                                 & LAE          & Papua New Guinea & 0.0000 &   0.0000\\\\\n\t AYMD & MADANG                              & MADANG       & Papua New Guinea & 5.1225 & 145.4719\\\\\n\t AYMH & MOUNT HAGEN                         & MOUNT HAGEN  & Papua New Guinea & 5.4934 & 144.1746\\\\\n\t AYNZ & NADZAB                              & NADZAB       & Papua New Guinea & 6.3411 & 146.4334\\\\\n\t AYPY & PORT MORESBY JACKSONS INTERNATIONAL & PORT MORESBY & Papua New Guinea & 9.2636 & 147.1312\\\\\n\\end{tabular}\n",
            "text/plain": [
              "  icao_code airport_name                        city         country         \n",
              "1 AYGA      GOROKA                              GOROKA       Papua New Guinea\n",
              "2 AYLA      N/A                                 LAE          Papua New Guinea\n",
              "3 AYMD      MADANG                              MADANG       Papua New Guinea\n",
              "4 AYMH      MOUNT HAGEN                         MOUNT HAGEN  Papua New Guinea\n",
              "5 AYNZ      NADZAB                              NADZAB       Papua New Guinea\n",
              "6 AYPY      PORT MORESBY JACKSONS INTERNATIONAL PORT MORESBY Papua New Guinea\n",
              "  lat    lon     \n",
              "1 6.4540 145.2330\n",
              "2 0.0000   0.0000\n",
              "3 5.1225 145.4719\n",
              "4 5.4934 144.1746\n",
              "5 6.3411 146.4334\n",
              "6 9.2636 147.1312"
            ]
          },
          "metadata": {}
        }
      ]
    },
    {
      "cell_type": "code",
      "source": [
        "flights %>% select(APT_ICAO) %>% distinct() %>% left_join(airports_pr, by = c(\"APT_ICAO\" = \"icao_code\"))"
      ],
      "metadata": {
        "colab": {
          "base_uri": "https://localhost:8080/",
          "height": 1000
        },
        "id": "e2BrIdmOkL1o",
        "outputId": "badf4d0e-bbb0-4d46-ec6b-3b4e784d2b01"
      },
      "execution_count": null,
      "outputs": [
        {
          "output_type": "display_data",
          "data": {
            "text/html": [
              "<table class=\"dataframe\">\n",
              "<caption>A tibble: 332 × 6</caption>\n",
              "<thead>\n",
              "\t<tr><th scope=col>APT_ICAO</th><th scope=col>airport_name</th><th scope=col>city</th><th scope=col>country</th><th scope=col>lat</th><th scope=col>lon</th></tr>\n",
              "\t<tr><th scope=col>&lt;chr&gt;</th><th scope=col>&lt;chr&gt;</th><th scope=col>&lt;chr&gt;</th><th scope=col>&lt;chr&gt;</th><th scope=col>&lt;dbl&gt;</th><th scope=col>&lt;dbl&gt;</th></tr>\n",
              "</thead>\n",
              "<tbody>\n",
              "\t<tr><td>EBAW</td><td>DEURNE              </td><td>ANTWERP                       </td><td>Belgium      </td><td>51.1124</td><td> 4.2746</td></tr>\n",
              "\t<tr><td>EBBR</td><td>BRUSSELS NATL       </td><td>BRUSSELS                      </td><td>Belgium      </td><td>50.5480</td><td> 4.2955</td></tr>\n",
              "\t<tr><td>EBCI</td><td>BRUSSELS SOUTH      </td><td>CHARLEROI                     </td><td>Belgium      </td><td>50.2733</td><td> 4.2713</td></tr>\n",
              "\t<tr><td>EBLG</td><td>LIEGE               </td><td>LIEGE                         </td><td>Belgium      </td><td>50.3814</td><td> 5.2635</td></tr>\n",
              "\t<tr><td>EBOS</td><td>OOSTENDE            </td><td>OSTEND                        </td><td>Belgium      </td><td>51.1156</td><td> 2.5144</td></tr>\n",
              "\t<tr><td>EDDB</td><td>SCHONEFELD          </td><td>BERLIN                        </td><td>Germany      </td><td>52.2248</td><td>13.3121</td></tr>\n",
              "\t<tr><td>EDDC</td><td>DRESDEN             </td><td>DRESDEN                       </td><td>Germany      </td><td>51.7570</td><td>13.4610</td></tr>\n",
              "\t<tr><td>EDDE</td><td>ERFURT              </td><td>ERFURT                        </td><td>Germany      </td><td>50.5848</td><td>10.5729</td></tr>\n",
              "\t<tr><td>EDDF</td><td>FRANKFURT MAIN      </td><td>FRANKFURT                     </td><td>Germany      </td><td>50.1350</td><td> 8.3235</td></tr>\n",
              "\t<tr><td>EDDG</td><td>MUNSTER OSNABRUCK   </td><td>MUENSTER/OSNABRUECK           </td><td>Germany      </td><td>52.8400</td><td> 7.4150</td></tr>\n",
              "\t<tr><td>EDDH</td><td>HAMBURG             </td><td>HAMBURG                       </td><td>Germany      </td><td>53.3749</td><td> 9.5917</td></tr>\n",
              "\t<tr><td>EDDK</td><td>KOLN BONN           </td><td>COLOGNE                       </td><td>Germany      </td><td>50.5157</td><td> 7.8330</td></tr>\n",
              "\t<tr><td>EDDL</td><td>DUSSELDORF          </td><td>DUESSELDORF                   </td><td>Germany      </td><td>51.1722</td><td> 6.4600</td></tr>\n",
              "\t<tr><td>EDDM</td><td>MUNICH              </td><td>MUNICH                        </td><td>Germany      </td><td>48.2113</td><td>11.4790</td></tr>\n",
              "\t<tr><td>EDDN</td><td>NURNBERG            </td><td>NUERNBERG                     </td><td>Germany      </td><td>49.2955</td><td>11.4410</td></tr>\n",
              "\t<tr><td>EDDP</td><td>LEIPZIG HALLE       </td><td>LEIPZIG                       </td><td>Germany      </td><td>51.2526</td><td>12.1410</td></tr>\n",
              "\t<tr><td>EDDR</td><td>SAARBRUCKEN         </td><td>SAARBRUECKEN                  </td><td>Germany      </td><td>49.1252</td><td> 7.6340</td></tr>\n",
              "\t<tr><td>EDDS</td><td>STUTTGART           </td><td>STUTTGART                     </td><td>Germany      </td><td>48.4123</td><td> 9.1319</td></tr>\n",
              "\t<tr><td>EDDT</td><td>TEGEL               </td><td>BERLIN                        </td><td>Germany      </td><td>52.3334</td><td>13.1715</td></tr>\n",
              "\t<tr><td>EDDV</td><td>HANNOVER            </td><td>HANNOVER                      </td><td>Germany      </td><td>52.2739</td><td> 9.4160</td></tr>\n",
              "\t<tr><td>EDDW</td><td>BREMEN              </td><td>BREMEN                        </td><td>Germany      </td><td>53.2510</td><td> 8.4712</td></tr>\n",
              "\t<tr><td>EETN</td><td>TALLINN             </td><td>TALLINN-ULEMISTE INTERNATIONAL</td><td>Estonia      </td><td>59.2447</td><td>24.4958</td></tr>\n",
              "\t<tr><td>EETU</td><td>TARTU               </td><td>TARTU-ULENURME                </td><td>Estonia      </td><td>58.1826</td><td>26.4125</td></tr>\n",
              "\t<tr><td>EFHK</td><td>HELSINKI VANTAA     </td><td>HELSINKI                      </td><td>Finland      </td><td>60.1912</td><td>24.5722</td></tr>\n",
              "\t<tr><td>EGAA</td><td>ALDERGROVE          </td><td>BELFAST                       </td><td>North Ireland</td><td>54.3927</td><td> 6.1257</td></tr>\n",
              "\t<tr><td>EGAC</td><td>CITY                </td><td>BELFAST                       </td><td>North Ireland</td><td>54.3750</td><td> 5.5221</td></tr>\n",
              "\t<tr><td>EGAE</td><td>LONDONDERRY EGLINTON</td><td>LONDONDERRY                   </td><td>North Ireland</td><td>55.2340</td><td> 7.9400</td></tr>\n",
              "\t<tr><td>EGBB</td><td>BIRMINGHAM          </td><td>BIRMINGHAM                    </td><td>England      </td><td>52.2713</td><td> 1.4452</td></tr>\n",
              "\t<tr><td>EGCC</td><td>MANCHESTER          </td><td>MANCHESTER                    </td><td>England      </td><td>53.2113</td><td> 2.1629</td></tr>\n",
              "\t<tr><td>EGGD</td><td>BRISTOL             </td><td>BRISTOL                       </td><td>England      </td><td>51.2257</td><td> 2.4380</td></tr>\n",
              "\t<tr><td>⋮</td><td>⋮</td><td>⋮</td><td>⋮</td><td>⋮</td><td>⋮</td></tr>\n",
              "\t<tr><td>ENOV</td><td>N/A              </td><td>ORSTA-VOLDA </td><td>Norway </td><td> 0.0000</td><td> 0.0000</td></tr>\n",
              "\t<tr><td>ENRA</td><td>N/A              </td><td>MO I RANA   </td><td>Norway </td><td> 0.0000</td><td> 0.0000</td></tr>\n",
              "\t<tr><td>ENRM</td><td>N/A              </td><td>RORVIK      </td><td>Norway </td><td> 0.0000</td><td> 0.0000</td></tr>\n",
              "\t<tr><td>ENRO</td><td>ROEROS           </td><td>ROROS       </td><td>Norway </td><td>62.3442</td><td>11.2032</td></tr>\n",
              "\t<tr><td>ENRS</td><td>N/A              </td><td>ROST        </td><td>Norway </td><td> 0.0000</td><td> 0.0000</td></tr>\n",
              "\t<tr><td>ENSB</td><td>SVALBARD LONGYEAR</td><td>SVALBARD    </td><td>Norway </td><td>78.1446</td><td>15.2756</td></tr>\n",
              "\t<tr><td>ENSD</td><td>N/A              </td><td>SANDANE     </td><td>Norway </td><td> 0.0000</td><td> 0.0000</td></tr>\n",
              "\t<tr><td>ENSG</td><td>SOGNDAL HAUKASEN </td><td>SOGNDAL     </td><td>Norway </td><td>61.9220</td><td> 7.8110</td></tr>\n",
              "\t<tr><td>ENSH</td><td>N/A              </td><td>SVOLVAER    </td><td>Norway </td><td> 0.0000</td><td> 0.0000</td></tr>\n",
              "\t<tr><td>ENSK</td><td>N/A              </td><td>STOKMARKNES </td><td>Norway </td><td> 0.0000</td><td> 0.0000</td></tr>\n",
              "\t<tr><td>ENSR</td><td>SORKJOSEN        </td><td>SORKJOSEN   </td><td>Norway </td><td>69.4713</td><td>20.5734</td></tr>\n",
              "\t<tr><td>ENSS</td><td>SVARTNES         </td><td>SVARTNES    </td><td>Norway </td><td>70.2119</td><td>31.2410</td></tr>\n",
              "\t<tr><td>ENST</td><td>STOKKA           </td><td>SANDNESSJOEN</td><td>Norway </td><td>65.5724</td><td>12.2880</td></tr>\n",
              "\t<tr><td>ENTC</td><td>TROMSO           </td><td>TROMSO      </td><td>Norway </td><td>69.4100</td><td>18.5580</td></tr>\n",
              "\t<tr><td>ENVD</td><td>N/A              </td><td>VADSO       </td><td>Norway </td><td> 0.0000</td><td> 0.0000</td></tr>\n",
              "\t<tr><td>ENVR</td><td>NA               </td><td>NA          </td><td>NA     </td><td>     NA</td><td>     NA</td></tr>\n",
              "\t<tr><td>GMAD</td><td>NA               </td><td>NA          </td><td>NA     </td><td>     NA</td><td>     NA</td></tr>\n",
              "\t<tr><td>GMFF</td><td>SAISS            </td><td>FEZ         </td><td>Morocco</td><td>33.5538</td><td> 4.5840</td></tr>\n",
              "\t<tr><td>GMME</td><td>SALE             </td><td>RABAT       </td><td>Morocco</td><td>34.3500</td><td> 6.4550</td></tr>\n",
              "\t<tr><td>GMMN</td><td>MOHAMMED V       </td><td>CASABLANCA  </td><td>Morocco</td><td>33.2240</td><td> 7.3516</td></tr>\n",
              "\t<tr><td>GMMX</td><td>MENARA           </td><td>MARRAKECH   </td><td>Morocco</td><td>31.3624</td><td> 8.2100</td></tr>\n",
              "\t<tr><td>GMTT</td><td>IBN BATOUTA      </td><td>TANGER      </td><td>Morocco</td><td>35.4336</td><td> 5.5500</td></tr>\n",
              "\t<tr><td>LLBG</td><td>BEN GURION       </td><td>TEL-AVIV    </td><td>Israel </td><td>32.0340</td><td>34.5236</td></tr>\n",
              "\t<tr><td>LPMT</td><td>MONTIJO          </td><td>MONTIJO     </td><td>Acores </td><td>38.4213</td><td> 9.2900</td></tr>\n",
              "\t<tr><td>LTFM</td><td>NA               </td><td>NA          </td><td>NA     </td><td>     NA</td><td>     NA</td></tr>\n",
              "\t<tr><td>LEMI</td><td>NA               </td><td>NA          </td><td>NA     </td><td>     NA</td><td>     NA</td></tr>\n",
              "\t<tr><td>EVJA</td><td>NA               </td><td>NA          </td><td>NA     </td><td>     NA</td><td>     NA</td></tr>\n",
              "\t<tr><td>LERL</td><td>NA               </td><td>NA          </td><td>NA     </td><td>     NA</td><td>     NA</td></tr>\n",
              "\t<tr><td>LICJ</td><td>PALERMO          </td><td>PALERMO     </td><td>Italy  </td><td>38.1033</td><td>13.5270</td></tr>\n",
              "\t<tr><td>LFOP</td><td>VALLEE DE SEINE  </td><td>ROUEN       </td><td>France </td><td>49.2330</td><td> 1.1029</td></tr>\n",
              "</tbody>\n",
              "</table>\n"
            ],
            "text/markdown": "\nA tibble: 332 × 6\n\n| APT_ICAO &lt;chr&gt; | airport_name &lt;chr&gt; | city &lt;chr&gt; | country &lt;chr&gt; | lat &lt;dbl&gt; | lon &lt;dbl&gt; |\n|---|---|---|---|---|---|\n| EBAW | DEURNE               | ANTWERP                        | Belgium       | 51.1124 |  4.2746 |\n| EBBR | BRUSSELS NATL        | BRUSSELS                       | Belgium       | 50.5480 |  4.2955 |\n| EBCI | BRUSSELS SOUTH       | CHARLEROI                      | Belgium       | 50.2733 |  4.2713 |\n| EBLG | LIEGE                | LIEGE                          | Belgium       | 50.3814 |  5.2635 |\n| EBOS | OOSTENDE             | OSTEND                         | Belgium       | 51.1156 |  2.5144 |\n| EDDB | SCHONEFELD           | BERLIN                         | Germany       | 52.2248 | 13.3121 |\n| EDDC | DRESDEN              | DRESDEN                        | Germany       | 51.7570 | 13.4610 |\n| EDDE | ERFURT               | ERFURT                         | Germany       | 50.5848 | 10.5729 |\n| EDDF | FRANKFURT MAIN       | FRANKFURT                      | Germany       | 50.1350 |  8.3235 |\n| EDDG | MUNSTER OSNABRUCK    | MUENSTER/OSNABRUECK            | Germany       | 52.8400 |  7.4150 |\n| EDDH | HAMBURG              | HAMBURG                        | Germany       | 53.3749 |  9.5917 |\n| EDDK | KOLN BONN            | COLOGNE                        | Germany       | 50.5157 |  7.8330 |\n| EDDL | DUSSELDORF           | DUESSELDORF                    | Germany       | 51.1722 |  6.4600 |\n| EDDM | MUNICH               | MUNICH                         | Germany       | 48.2113 | 11.4790 |\n| EDDN | NURNBERG             | NUERNBERG                      | Germany       | 49.2955 | 11.4410 |\n| EDDP | LEIPZIG HALLE        | LEIPZIG                        | Germany       | 51.2526 | 12.1410 |\n| EDDR | SAARBRUCKEN          | SAARBRUECKEN                   | Germany       | 49.1252 |  7.6340 |\n| EDDS | STUTTGART            | STUTTGART                      | Germany       | 48.4123 |  9.1319 |\n| EDDT | TEGEL                | BERLIN                         | Germany       | 52.3334 | 13.1715 |\n| EDDV | HANNOVER             | HANNOVER                       | Germany       | 52.2739 |  9.4160 |\n| EDDW | BREMEN               | BREMEN                         | Germany       | 53.2510 |  8.4712 |\n| EETN | TALLINN              | TALLINN-ULEMISTE INTERNATIONAL | Estonia       | 59.2447 | 24.4958 |\n| EETU | TARTU                | TARTU-ULENURME                 | Estonia       | 58.1826 | 26.4125 |\n| EFHK | HELSINKI VANTAA      | HELSINKI                       | Finland       | 60.1912 | 24.5722 |\n| EGAA | ALDERGROVE           | BELFAST                        | North Ireland | 54.3927 |  6.1257 |\n| EGAC | CITY                 | BELFAST                        | North Ireland | 54.3750 |  5.5221 |\n| EGAE | LONDONDERRY EGLINTON | LONDONDERRY                    | North Ireland | 55.2340 |  7.9400 |\n| EGBB | BIRMINGHAM           | BIRMINGHAM                     | England       | 52.2713 |  1.4452 |\n| EGCC | MANCHESTER           | MANCHESTER                     | England       | 53.2113 |  2.1629 |\n| EGGD | BRISTOL              | BRISTOL                        | England       | 51.2257 |  2.4380 |\n| ⋮ | ⋮ | ⋮ | ⋮ | ⋮ | ⋮ |\n| ENOV | N/A               | ORSTA-VOLDA  | Norway  |  0.0000 |  0.0000 |\n| ENRA | N/A               | MO I RANA    | Norway  |  0.0000 |  0.0000 |\n| ENRM | N/A               | RORVIK       | Norway  |  0.0000 |  0.0000 |\n| ENRO | ROEROS            | ROROS        | Norway  | 62.3442 | 11.2032 |\n| ENRS | N/A               | ROST         | Norway  |  0.0000 |  0.0000 |\n| ENSB | SVALBARD LONGYEAR | SVALBARD     | Norway  | 78.1446 | 15.2756 |\n| ENSD | N/A               | SANDANE      | Norway  |  0.0000 |  0.0000 |\n| ENSG | SOGNDAL HAUKASEN  | SOGNDAL      | Norway  | 61.9220 |  7.8110 |\n| ENSH | N/A               | SVOLVAER     | Norway  |  0.0000 |  0.0000 |\n| ENSK | N/A               | STOKMARKNES  | Norway  |  0.0000 |  0.0000 |\n| ENSR | SORKJOSEN         | SORKJOSEN    | Norway  | 69.4713 | 20.5734 |\n| ENSS | SVARTNES          | SVARTNES     | Norway  | 70.2119 | 31.2410 |\n| ENST | STOKKA            | SANDNESSJOEN | Norway  | 65.5724 | 12.2880 |\n| ENTC | TROMSO            | TROMSO       | Norway  | 69.4100 | 18.5580 |\n| ENVD | N/A               | VADSO        | Norway  |  0.0000 |  0.0000 |\n| ENVR | NA                | NA           | NA      |      NA |      NA |\n| GMAD | NA                | NA           | NA      |      NA |      NA |\n| GMFF | SAISS             | FEZ          | Morocco | 33.5538 |  4.5840 |\n| GMME | SALE              | RABAT        | Morocco | 34.3500 |  6.4550 |\n| GMMN | MOHAMMED V        | CASABLANCA   | Morocco | 33.2240 |  7.3516 |\n| GMMX | MENARA            | MARRAKECH    | Morocco | 31.3624 |  8.2100 |\n| GMTT | IBN BATOUTA       | TANGER       | Morocco | 35.4336 |  5.5500 |\n| LLBG | BEN GURION        | TEL-AVIV     | Israel  | 32.0340 | 34.5236 |\n| LPMT | MONTIJO           | MONTIJO      | Acores  | 38.4213 |  9.2900 |\n| LTFM | NA                | NA           | NA      |      NA |      NA |\n| LEMI | NA                | NA           | NA      |      NA |      NA |\n| EVJA | NA                | NA           | NA      |      NA |      NA |\n| LERL | NA                | NA           | NA      |      NA |      NA |\n| LICJ | PALERMO           | PALERMO      | Italy   | 38.1033 | 13.5270 |\n| LFOP | VALLEE DE SEINE   | ROUEN        | France  | 49.2330 |  1.1029 |\n\n",
            "text/latex": "A tibble: 332 × 6\n\\begin{tabular}{llllll}\n APT\\_ICAO & airport\\_name & city & country & lat & lon\\\\\n <chr> & <chr> & <chr> & <chr> & <dbl> & <dbl>\\\\\n\\hline\n\t EBAW & DEURNE               & ANTWERP                        & Belgium       & 51.1124 &  4.2746\\\\\n\t EBBR & BRUSSELS NATL        & BRUSSELS                       & Belgium       & 50.5480 &  4.2955\\\\\n\t EBCI & BRUSSELS SOUTH       & CHARLEROI                      & Belgium       & 50.2733 &  4.2713\\\\\n\t EBLG & LIEGE                & LIEGE                          & Belgium       & 50.3814 &  5.2635\\\\\n\t EBOS & OOSTENDE             & OSTEND                         & Belgium       & 51.1156 &  2.5144\\\\\n\t EDDB & SCHONEFELD           & BERLIN                         & Germany       & 52.2248 & 13.3121\\\\\n\t EDDC & DRESDEN              & DRESDEN                        & Germany       & 51.7570 & 13.4610\\\\\n\t EDDE & ERFURT               & ERFURT                         & Germany       & 50.5848 & 10.5729\\\\\n\t EDDF & FRANKFURT MAIN       & FRANKFURT                      & Germany       & 50.1350 &  8.3235\\\\\n\t EDDG & MUNSTER OSNABRUCK    & MUENSTER/OSNABRUECK            & Germany       & 52.8400 &  7.4150\\\\\n\t EDDH & HAMBURG              & HAMBURG                        & Germany       & 53.3749 &  9.5917\\\\\n\t EDDK & KOLN BONN            & COLOGNE                        & Germany       & 50.5157 &  7.8330\\\\\n\t EDDL & DUSSELDORF           & DUESSELDORF                    & Germany       & 51.1722 &  6.4600\\\\\n\t EDDM & MUNICH               & MUNICH                         & Germany       & 48.2113 & 11.4790\\\\\n\t EDDN & NURNBERG             & NUERNBERG                      & Germany       & 49.2955 & 11.4410\\\\\n\t EDDP & LEIPZIG HALLE        & LEIPZIG                        & Germany       & 51.2526 & 12.1410\\\\\n\t EDDR & SAARBRUCKEN          & SAARBRUECKEN                   & Germany       & 49.1252 &  7.6340\\\\\n\t EDDS & STUTTGART            & STUTTGART                      & Germany       & 48.4123 &  9.1319\\\\\n\t EDDT & TEGEL                & BERLIN                         & Germany       & 52.3334 & 13.1715\\\\\n\t EDDV & HANNOVER             & HANNOVER                       & Germany       & 52.2739 &  9.4160\\\\\n\t EDDW & BREMEN               & BREMEN                         & Germany       & 53.2510 &  8.4712\\\\\n\t EETN & TALLINN              & TALLINN-ULEMISTE INTERNATIONAL & Estonia       & 59.2447 & 24.4958\\\\\n\t EETU & TARTU                & TARTU-ULENURME                 & Estonia       & 58.1826 & 26.4125\\\\\n\t EFHK & HELSINKI VANTAA      & HELSINKI                       & Finland       & 60.1912 & 24.5722\\\\\n\t EGAA & ALDERGROVE           & BELFAST                        & North Ireland & 54.3927 &  6.1257\\\\\n\t EGAC & CITY                 & BELFAST                        & North Ireland & 54.3750 &  5.5221\\\\\n\t EGAE & LONDONDERRY EGLINTON & LONDONDERRY                    & North Ireland & 55.2340 &  7.9400\\\\\n\t EGBB & BIRMINGHAM           & BIRMINGHAM                     & England       & 52.2713 &  1.4452\\\\\n\t EGCC & MANCHESTER           & MANCHESTER                     & England       & 53.2113 &  2.1629\\\\\n\t EGGD & BRISTOL              & BRISTOL                        & England       & 51.2257 &  2.4380\\\\\n\t ⋮ & ⋮ & ⋮ & ⋮ & ⋮ & ⋮\\\\\n\t ENOV & N/A               & ORSTA-VOLDA  & Norway  &  0.0000 &  0.0000\\\\\n\t ENRA & N/A               & MO I RANA    & Norway  &  0.0000 &  0.0000\\\\\n\t ENRM & N/A               & RORVIK       & Norway  &  0.0000 &  0.0000\\\\\n\t ENRO & ROEROS            & ROROS        & Norway  & 62.3442 & 11.2032\\\\\n\t ENRS & N/A               & ROST         & Norway  &  0.0000 &  0.0000\\\\\n\t ENSB & SVALBARD LONGYEAR & SVALBARD     & Norway  & 78.1446 & 15.2756\\\\\n\t ENSD & N/A               & SANDANE      & Norway  &  0.0000 &  0.0000\\\\\n\t ENSG & SOGNDAL HAUKASEN  & SOGNDAL      & Norway  & 61.9220 &  7.8110\\\\\n\t ENSH & N/A               & SVOLVAER     & Norway  &  0.0000 &  0.0000\\\\\n\t ENSK & N/A               & STOKMARKNES  & Norway  &  0.0000 &  0.0000\\\\\n\t ENSR & SORKJOSEN         & SORKJOSEN    & Norway  & 69.4713 & 20.5734\\\\\n\t ENSS & SVARTNES          & SVARTNES     & Norway  & 70.2119 & 31.2410\\\\\n\t ENST & STOKKA            & SANDNESSJOEN & Norway  & 65.5724 & 12.2880\\\\\n\t ENTC & TROMSO            & TROMSO       & Norway  & 69.4100 & 18.5580\\\\\n\t ENVD & N/A               & VADSO        & Norway  &  0.0000 &  0.0000\\\\\n\t ENVR & NA                & NA           & NA      &      NA &      NA\\\\\n\t GMAD & NA                & NA           & NA      &      NA &      NA\\\\\n\t GMFF & SAISS             & FEZ          & Morocco & 33.5538 &  4.5840\\\\\n\t GMME & SALE              & RABAT        & Morocco & 34.3500 &  6.4550\\\\\n\t GMMN & MOHAMMED V        & CASABLANCA   & Morocco & 33.2240 &  7.3516\\\\\n\t GMMX & MENARA            & MARRAKECH    & Morocco & 31.3624 &  8.2100\\\\\n\t GMTT & IBN BATOUTA       & TANGER       & Morocco & 35.4336 &  5.5500\\\\\n\t LLBG & BEN GURION        & TEL-AVIV     & Israel  & 32.0340 & 34.5236\\\\\n\t LPMT & MONTIJO           & MONTIJO      & Acores  & 38.4213 &  9.2900\\\\\n\t LTFM & NA                & NA           & NA      &      NA &      NA\\\\\n\t LEMI & NA                & NA           & NA      &      NA &      NA\\\\\n\t EVJA & NA                & NA           & NA      &      NA &      NA\\\\\n\t LERL & NA                & NA           & NA      &      NA &      NA\\\\\n\t LICJ & PALERMO           & PALERMO      & Italy   & 38.1033 & 13.5270\\\\\n\t LFOP & VALLEE DE SEINE   & ROUEN        & France  & 49.2330 &  1.1029\\\\\n\\end{tabular}\n",
            "text/plain": [
              "    APT_ICAO airport_name         city                           country      \n",
              "1   EBAW     DEURNE               ANTWERP                        Belgium      \n",
              "2   EBBR     BRUSSELS NATL        BRUSSELS                       Belgium      \n",
              "3   EBCI     BRUSSELS SOUTH       CHARLEROI                      Belgium      \n",
              "4   EBLG     LIEGE                LIEGE                          Belgium      \n",
              "5   EBOS     OOSTENDE             OSTEND                         Belgium      \n",
              "6   EDDB     SCHONEFELD           BERLIN                         Germany      \n",
              "7   EDDC     DRESDEN              DRESDEN                        Germany      \n",
              "8   EDDE     ERFURT               ERFURT                         Germany      \n",
              "9   EDDF     FRANKFURT MAIN       FRANKFURT                      Germany      \n",
              "10  EDDG     MUNSTER OSNABRUCK    MUENSTER/OSNABRUECK            Germany      \n",
              "11  EDDH     HAMBURG              HAMBURG                        Germany      \n",
              "12  EDDK     KOLN BONN            COLOGNE                        Germany      \n",
              "13  EDDL     DUSSELDORF           DUESSELDORF                    Germany      \n",
              "14  EDDM     MUNICH               MUNICH                         Germany      \n",
              "15  EDDN     NURNBERG             NUERNBERG                      Germany      \n",
              "16  EDDP     LEIPZIG HALLE        LEIPZIG                        Germany      \n",
              "17  EDDR     SAARBRUCKEN          SAARBRUECKEN                   Germany      \n",
              "18  EDDS     STUTTGART            STUTTGART                      Germany      \n",
              "19  EDDT     TEGEL                BERLIN                         Germany      \n",
              "20  EDDV     HANNOVER             HANNOVER                       Germany      \n",
              "21  EDDW     BREMEN               BREMEN                         Germany      \n",
              "22  EETN     TALLINN              TALLINN-ULEMISTE INTERNATIONAL Estonia      \n",
              "23  EETU     TARTU                TARTU-ULENURME                 Estonia      \n",
              "24  EFHK     HELSINKI VANTAA      HELSINKI                       Finland      \n",
              "25  EGAA     ALDERGROVE           BELFAST                        North Ireland\n",
              "26  EGAC     CITY                 BELFAST                        North Ireland\n",
              "27  EGAE     LONDONDERRY EGLINTON LONDONDERRY                    North Ireland\n",
              "28  EGBB     BIRMINGHAM           BIRMINGHAM                     England      \n",
              "29  EGCC     MANCHESTER           MANCHESTER                     England      \n",
              "30  EGGD     BRISTOL              BRISTOL                        England      \n",
              "⋮   ⋮        ⋮                    ⋮                              ⋮            \n",
              "303 ENOV     N/A                  ORSTA-VOLDA                    Norway       \n",
              "304 ENRA     N/A                  MO I RANA                      Norway       \n",
              "305 ENRM     N/A                  RORVIK                         Norway       \n",
              "306 ENRO     ROEROS               ROROS                          Norway       \n",
              "307 ENRS     N/A                  ROST                           Norway       \n",
              "308 ENSB     SVALBARD LONGYEAR    SVALBARD                       Norway       \n",
              "309 ENSD     N/A                  SANDANE                        Norway       \n",
              "310 ENSG     SOGNDAL HAUKASEN     SOGNDAL                        Norway       \n",
              "311 ENSH     N/A                  SVOLVAER                       Norway       \n",
              "312 ENSK     N/A                  STOKMARKNES                    Norway       \n",
              "313 ENSR     SORKJOSEN            SORKJOSEN                      Norway       \n",
              "314 ENSS     SVARTNES             SVARTNES                       Norway       \n",
              "315 ENST     STOKKA               SANDNESSJOEN                   Norway       \n",
              "316 ENTC     TROMSO               TROMSO                         Norway       \n",
              "317 ENVD     N/A                  VADSO                          Norway       \n",
              "318 ENVR     NA                   NA                             NA           \n",
              "319 GMAD     NA                   NA                             NA           \n",
              "320 GMFF     SAISS                FEZ                            Morocco      \n",
              "321 GMME     SALE                 RABAT                          Morocco      \n",
              "322 GMMN     MOHAMMED V           CASABLANCA                     Morocco      \n",
              "323 GMMX     MENARA               MARRAKECH                      Morocco      \n",
              "324 GMTT     IBN BATOUTA          TANGER                         Morocco      \n",
              "325 LLBG     BEN GURION           TEL-AVIV                       Israel       \n",
              "326 LPMT     MONTIJO              MONTIJO                        Acores       \n",
              "327 LTFM     NA                   NA                             NA           \n",
              "328 LEMI     NA                   NA                             NA           \n",
              "329 EVJA     NA                   NA                             NA           \n",
              "330 LERL     NA                   NA                             NA           \n",
              "331 LICJ     PALERMO              PALERMO                        Italy        \n",
              "332 LFOP     VALLEE DE SEINE      ROUEN                          France       \n",
              "    lat     lon    \n",
              "1   51.1124  4.2746\n",
              "2   50.5480  4.2955\n",
              "3   50.2733  4.2713\n",
              "4   50.3814  5.2635\n",
              "5   51.1156  2.5144\n",
              "6   52.2248 13.3121\n",
              "7   51.7570 13.4610\n",
              "8   50.5848 10.5729\n",
              "9   50.1350  8.3235\n",
              "10  52.8400  7.4150\n",
              "11  53.3749  9.5917\n",
              "12  50.5157  7.8330\n",
              "13  51.1722  6.4600\n",
              "14  48.2113 11.4790\n",
              "15  49.2955 11.4410\n",
              "16  51.2526 12.1410\n",
              "17  49.1252  7.6340\n",
              "18  48.4123  9.1319\n",
              "19  52.3334 13.1715\n",
              "20  52.2739  9.4160\n",
              "21  53.2510  8.4712\n",
              "22  59.2447 24.4958\n",
              "23  58.1826 26.4125\n",
              "24  60.1912 24.5722\n",
              "25  54.3927  6.1257\n",
              "26  54.3750  5.5221\n",
              "27  55.2340  7.9400\n",
              "28  52.2713  1.4452\n",
              "29  53.2113  2.1629\n",
              "30  51.2257  2.4380\n",
              "⋮   ⋮       ⋮      \n",
              "303  0.0000  0.0000\n",
              "304  0.0000  0.0000\n",
              "305  0.0000  0.0000\n",
              "306 62.3442 11.2032\n",
              "307  0.0000  0.0000\n",
              "308 78.1446 15.2756\n",
              "309  0.0000  0.0000\n",
              "310 61.9220  7.8110\n",
              "311  0.0000  0.0000\n",
              "312  0.0000  0.0000\n",
              "313 69.4713 20.5734\n",
              "314 70.2119 31.2410\n",
              "315 65.5724 12.2880\n",
              "316 69.4100 18.5580\n",
              "317  0.0000  0.0000\n",
              "318      NA      NA\n",
              "319      NA      NA\n",
              "320 33.5538  4.5840\n",
              "321 34.3500  6.4550\n",
              "322 33.2240  7.3516\n",
              "323 31.3624  8.2100\n",
              "324 35.4336  5.5500\n",
              "325 32.0340 34.5236\n",
              "326 38.4213  9.2900\n",
              "327      NA      NA\n",
              "328      NA      NA\n",
              "329      NA      NA\n",
              "330      NA      NA\n",
              "331 38.1033 13.5270\n",
              "332 49.2330  1.1029"
            ]
          },
          "metadata": {}
        }
      ]
    },
    {
      "cell_type": "markdown",
      "source": [
        "Let's separate main city (e.g. Amsterdam) and secondary city (e.g. Schiphol)"
      ],
      "metadata": {
        "id": "184T-lmYbgGZ"
      }
    },
    {
      "cell_type": "code",
      "source": [
        "# flights %>% separate(APT_NAME, c(\"airport_city_1\", \"airport_city_2\", sep = \" - \"))"
      ],
      "metadata": {
        "id": "X7O_ju5kdmv_"
      },
      "execution_count": null,
      "outputs": []
    },
    {
      "cell_type": "code",
      "source": [
        "flights_aug <- flights %>% left_join(airports_pr, by = c(\"APT_ICAO\" = \"icao_code\")) %>% \n",
        "  #filter(YEAR == 2019) %>%\n",
        "  select(YEAR, MONTH_NUM,\tMONTH_MON,\tFLT_DATE, APT_ICAO, APT_NAME, STATE_NAME, FLT_DEP_1, lat, lon, airport_name, city) %>%\n",
        "  mutate(city = str_to_title(city))\n",
        "\n",
        "flights_aug %>% filter(lat == 0) %>% head(3) \n"
      ],
      "metadata": {
        "colab": {
          "base_uri": "https://localhost:8080/",
          "height": 282
        },
        "id": "hqot8EU8secJ",
        "outputId": "3a62b428-115e-4c6c-d177-7b11448f9a43"
      },
      "execution_count": null,
      "outputs": [
        {
          "output_type": "display_data",
          "data": {
            "text/html": [
              "<table class=\"dataframe\">\n",
              "<caption>A tibble: 3 × 12</caption>\n",
              "<thead>\n",
              "\t<tr><th scope=col>YEAR</th><th scope=col>MONTH_NUM</th><th scope=col>MONTH_MON</th><th scope=col>FLT_DATE</th><th scope=col>APT_ICAO</th><th scope=col>APT_NAME</th><th scope=col>STATE_NAME</th><th scope=col>FLT_DEP_1</th><th scope=col>lat</th><th scope=col>lon</th><th scope=col>airport_name</th><th scope=col>city</th></tr>\n",
              "\t<tr><th scope=col>&lt;dbl&gt;</th><th scope=col>&lt;chr&gt;</th><th scope=col>&lt;chr&gt;</th><th scope=col>&lt;dttm&gt;</th><th scope=col>&lt;chr&gt;</th><th scope=col>&lt;chr&gt;</th><th scope=col>&lt;chr&gt;</th><th scope=col>&lt;dbl&gt;</th><th scope=col>&lt;dbl&gt;</th><th scope=col>&lt;dbl&gt;</th><th scope=col>&lt;chr&gt;</th><th scope=col>&lt;chr&gt;</th></tr>\n",
              "</thead>\n",
              "<tbody>\n",
              "\t<tr><td>2016</td><td>01</td><td>JAN</td><td>2016-01-01</td><td>LELL</td><td>Sabadell              </td><td>Spain  </td><td>1</td><td>0</td><td>0</td><td>N/A</td><td>Sabadell</td></tr>\n",
              "\t<tr><td>2016</td><td>01</td><td>JAN</td><td>2016-01-02</td><td>EIWT</td><td>Weston                </td><td>Ireland</td><td>1</td><td>0</td><td>0</td><td>N/A</td><td>Weston  </td></tr>\n",
              "\t<tr><td>2016</td><td>01</td><td>JAN</td><td>2016-01-02</td><td>LECU</td><td>Madrid - Cuatro Viento</td><td>Spain  </td><td>1</td><td>0</td><td>0</td><td>N/A</td><td>Madrid  </td></tr>\n",
              "</tbody>\n",
              "</table>\n"
            ],
            "text/markdown": "\nA tibble: 3 × 12\n\n| YEAR &lt;dbl&gt; | MONTH_NUM &lt;chr&gt; | MONTH_MON &lt;chr&gt; | FLT_DATE &lt;dttm&gt; | APT_ICAO &lt;chr&gt; | APT_NAME &lt;chr&gt; | STATE_NAME &lt;chr&gt; | FLT_DEP_1 &lt;dbl&gt; | lat &lt;dbl&gt; | lon &lt;dbl&gt; | airport_name &lt;chr&gt; | city &lt;chr&gt; |\n|---|---|---|---|---|---|---|---|---|---|---|---|\n| 2016 | 01 | JAN | 2016-01-01 | LELL | Sabadell               | Spain   | 1 | 0 | 0 | N/A | Sabadell |\n| 2016 | 01 | JAN | 2016-01-02 | EIWT | Weston                 | Ireland | 1 | 0 | 0 | N/A | Weston   |\n| 2016 | 01 | JAN | 2016-01-02 | LECU | Madrid - Cuatro Viento | Spain   | 1 | 0 | 0 | N/A | Madrid   |\n\n",
            "text/latex": "A tibble: 3 × 12\n\\begin{tabular}{llllllllllll}\n YEAR & MONTH\\_NUM & MONTH\\_MON & FLT\\_DATE & APT\\_ICAO & APT\\_NAME & STATE\\_NAME & FLT\\_DEP\\_1 & lat & lon & airport\\_name & city\\\\\n <dbl> & <chr> & <chr> & <dttm> & <chr> & <chr> & <chr> & <dbl> & <dbl> & <dbl> & <chr> & <chr>\\\\\n\\hline\n\t 2016 & 01 & JAN & 2016-01-01 & LELL & Sabadell               & Spain   & 1 & 0 & 0 & N/A & Sabadell\\\\\n\t 2016 & 01 & JAN & 2016-01-02 & EIWT & Weston                 & Ireland & 1 & 0 & 0 & N/A & Weston  \\\\\n\t 2016 & 01 & JAN & 2016-01-02 & LECU & Madrid - Cuatro Viento & Spain   & 1 & 0 & 0 & N/A & Madrid  \\\\\n\\end{tabular}\n",
            "text/plain": [
              "  YEAR MONTH_NUM MONTH_MON FLT_DATE   APT_ICAO APT_NAME              \n",
              "1 2016 01        JAN       2016-01-01 LELL     Sabadell              \n",
              "2 2016 01        JAN       2016-01-02 EIWT     Weston                \n",
              "3 2016 01        JAN       2016-01-02 LECU     Madrid - Cuatro Viento\n",
              "  STATE_NAME FLT_DEP_1 lat lon airport_name city    \n",
              "1 Spain      1         0   0   N/A          Sabadell\n",
              "2 Ireland    1         0   0   N/A          Weston  \n",
              "3 Spain      1         0   0   N/A          Madrid  "
            ]
          },
          "metadata": {}
        }
      ]
    },
    {
      "cell_type": "markdown",
      "source": [
        "We see that some airports have null lat, lons"
      ],
      "metadata": {
        "id": "fZlHJjMXteCR"
      }
    },
    {
      "cell_type": "code",
      "source": [
        "world.cities %>% filter(name == \"Berlevåg\")\n",
        "world.cities"
      ],
      "metadata": {
        "colab": {
          "base_uri": "https://localhost:8080/",
          "height": 98
        },
        "id": "B5Kg4BKttiGJ",
        "outputId": "5df830b5-267e-4cab-89bc-513509f6a650"
      },
      "execution_count": null,
      "outputs": [
        {
          "output_type": "display_data",
          "data": {
            "text/html": [
              "<table class=\"dataframe\">\n",
              "<caption>A data.frame: 0 × 6</caption>\n",
              "<thead>\n",
              "\t<tr><th scope=col>name</th><th scope=col>country.etc</th><th scope=col>pop</th><th scope=col>lat</th><th scope=col>long</th><th scope=col>capital</th></tr>\n",
              "\t<tr><th scope=col>&lt;chr&gt;</th><th scope=col>&lt;chr&gt;</th><th scope=col>&lt;int&gt;</th><th scope=col>&lt;dbl&gt;</th><th scope=col>&lt;dbl&gt;</th><th scope=col>&lt;int&gt;</th></tr>\n",
              "</thead>\n",
              "<tbody>\n",
              "</tbody>\n",
              "</table>\n"
            ],
            "text/markdown": "\nA data.frame: 0 × 6\n\n| name &lt;chr&gt; | country.etc &lt;chr&gt; | pop &lt;int&gt; | lat &lt;dbl&gt; | long &lt;dbl&gt; | capital &lt;int&gt; |\n|---|---|---|---|---|---|\n\n",
            "text/latex": "A data.frame: 0 × 6\n\\begin{tabular}{llllll}\n name & country.etc & pop & lat & long & capital\\\\\n <chr> & <chr> & <int> & <dbl> & <dbl> & <int>\\\\\n\\hline\n\\end{tabular}\n",
            "text/plain": [
              "     name country.etc pop lat long capital"
            ]
          },
          "metadata": {}
        }
      ]
    },
    {
      "cell_type": "code",
      "source": [
        "additional_cities <- world.cities %>% select(name, country.etc, lat, long)\n",
        "head(additional_cities, 3)"
      ],
      "metadata": {
        "colab": {
          "base_uri": "https://localhost:8080/",
          "height": 192
        },
        "id": "62n3PNEGt-cp",
        "outputId": "24b4236b-9fb9-4904-8bad-0b71d5e6d4e0"
      },
      "execution_count": null,
      "outputs": [
        {
          "output_type": "display_data",
          "data": {
            "text/html": [
              "<table class=\"dataframe\">\n",
              "<caption>A data.frame: 3 × 4</caption>\n",
              "<thead>\n",
              "\t<tr><th></th><th scope=col>name</th><th scope=col>country.etc</th><th scope=col>lat</th><th scope=col>long</th></tr>\n",
              "\t<tr><th></th><th scope=col>&lt;chr&gt;</th><th scope=col>&lt;chr&gt;</th><th scope=col>&lt;dbl&gt;</th><th scope=col>&lt;dbl&gt;</th></tr>\n",
              "</thead>\n",
              "<tbody>\n",
              "\t<tr><th scope=row>1</th><td>'Abasan al-Jadidah</td><td>Palestine</td><td>31.31</td><td>34.34</td></tr>\n",
              "\t<tr><th scope=row>2</th><td>'Abasan al-Kabirah</td><td>Palestine</td><td>31.32</td><td>34.35</td></tr>\n",
              "\t<tr><th scope=row>3</th><td>'Abdul Hakim      </td><td>Pakistan </td><td>30.55</td><td>72.11</td></tr>\n",
              "</tbody>\n",
              "</table>\n"
            ],
            "text/markdown": "\nA data.frame: 3 × 4\n\n| <!--/--> | name &lt;chr&gt; | country.etc &lt;chr&gt; | lat &lt;dbl&gt; | long &lt;dbl&gt; |\n|---|---|---|---|---|\n| 1 | 'Abasan al-Jadidah | Palestine | 31.31 | 34.34 |\n| 2 | 'Abasan al-Kabirah | Palestine | 31.32 | 34.35 |\n| 3 | 'Abdul Hakim       | Pakistan  | 30.55 | 72.11 |\n\n",
            "text/latex": "A data.frame: 3 × 4\n\\begin{tabular}{r|llll}\n  & name & country.etc & lat & long\\\\\n  & <chr> & <chr> & <dbl> & <dbl>\\\\\n\\hline\n\t1 & 'Abasan al-Jadidah & Palestine & 31.31 & 34.34\\\\\n\t2 & 'Abasan al-Kabirah & Palestine & 31.32 & 34.35\\\\\n\t3 & 'Abdul Hakim       & Pakistan  & 30.55 & 72.11\\\\\n\\end{tabular}\n",
            "text/plain": [
              "  name               country.etc lat   long \n",
              "1 'Abasan al-Jadidah Palestine   31.31 34.34\n",
              "2 'Abasan al-Kabirah Palestine   31.32 34.35\n",
              "3 'Abdul Hakim       Pakistan    30.55 72.11"
            ]
          },
          "metadata": {}
        }
      ]
    },
    {
      "cell_type": "code",
      "source": [
        "flights_aug <- flights_aug %>% left_join(additional_cities, by = c(\"city\" = \"name\")) \n",
        "\n",
        "flights_aug %>% filter(lat.x == 0) %>% head()"
      ],
      "metadata": {
        "colab": {
          "base_uri": "https://localhost:8080/",
          "height": 445
        },
        "id": "Ur5Y-Ap3t7Qe",
        "outputId": "95ea1f0c-8667-4d93-e2ad-0664d7e2e081"
      },
      "execution_count": null,
      "outputs": [
        {
          "output_type": "display_data",
          "data": {
            "text/html": [
              "<table class=\"dataframe\">\n",
              "<caption>A tibble: 6 × 15</caption>\n",
              "<thead>\n",
              "\t<tr><th scope=col>YEAR</th><th scope=col>MONTH_NUM</th><th scope=col>MONTH_MON</th><th scope=col>FLT_DATE</th><th scope=col>APT_ICAO</th><th scope=col>APT_NAME</th><th scope=col>STATE_NAME</th><th scope=col>FLT_DEP_1</th><th scope=col>lat.x</th><th scope=col>lon</th><th scope=col>airport_name</th><th scope=col>city</th><th scope=col>country.etc</th><th scope=col>lat.y</th><th scope=col>long</th></tr>\n",
              "\t<tr><th scope=col>&lt;dbl&gt;</th><th scope=col>&lt;chr&gt;</th><th scope=col>&lt;chr&gt;</th><th scope=col>&lt;dttm&gt;</th><th scope=col>&lt;chr&gt;</th><th scope=col>&lt;chr&gt;</th><th scope=col>&lt;chr&gt;</th><th scope=col>&lt;dbl&gt;</th><th scope=col>&lt;dbl&gt;</th><th scope=col>&lt;dbl&gt;</th><th scope=col>&lt;chr&gt;</th><th scope=col>&lt;chr&gt;</th><th scope=col>&lt;chr&gt;</th><th scope=col>&lt;dbl&gt;</th><th scope=col>&lt;dbl&gt;</th></tr>\n",
              "</thead>\n",
              "<tbody>\n",
              "\t<tr><td>2016</td><td>01</td><td>JAN</td><td>2016-01-01</td><td>LELL</td><td>Sabadell              </td><td>Spain  </td><td>1</td><td>0</td><td>0</td><td>N/A</td><td>Sabadell</td><td>Spain   </td><td>41.55</td><td>  2.10</td></tr>\n",
              "\t<tr><td>2016</td><td>01</td><td>JAN</td><td>2016-01-02</td><td>EIWT</td><td>Weston                </td><td>Ireland</td><td>1</td><td>0</td><td>0</td><td>N/A</td><td>Weston  </td><td>USA     </td><td>26.10</td><td>-80.40</td></tr>\n",
              "\t<tr><td>2016</td><td>01</td><td>JAN</td><td>2016-01-02</td><td>LECU</td><td>Madrid - Cuatro Viento</td><td>Spain  </td><td>1</td><td>0</td><td>0</td><td>N/A</td><td>Madrid  </td><td>Colombia</td><td> 4.74</td><td>-74.27</td></tr>\n",
              "\t<tr><td>2016</td><td>01</td><td>JAN</td><td>2016-01-02</td><td>LECU</td><td>Madrid - Cuatro Viento</td><td>Spain  </td><td>1</td><td>0</td><td>0</td><td>N/A</td><td>Madrid  </td><td>Spain   </td><td>40.42</td><td> -3.71</td></tr>\n",
              "\t<tr><td>2016</td><td>01</td><td>JAN</td><td>2016-01-02</td><td>LELL</td><td>Sabadell              </td><td>Spain  </td><td>0</td><td>0</td><td>0</td><td>N/A</td><td>Sabadell</td><td>Spain   </td><td>41.55</td><td>  2.10</td></tr>\n",
              "\t<tr><td>2016</td><td>01</td><td>JAN</td><td>2016-01-03</td><td>EIWT</td><td>Weston                </td><td>Ireland</td><td>1</td><td>0</td><td>0</td><td>N/A</td><td>Weston  </td><td>USA     </td><td>26.10</td><td>-80.40</td></tr>\n",
              "</tbody>\n",
              "</table>\n"
            ],
            "text/markdown": "\nA tibble: 6 × 15\n\n| YEAR &lt;dbl&gt; | MONTH_NUM &lt;chr&gt; | MONTH_MON &lt;chr&gt; | FLT_DATE &lt;dttm&gt; | APT_ICAO &lt;chr&gt; | APT_NAME &lt;chr&gt; | STATE_NAME &lt;chr&gt; | FLT_DEP_1 &lt;dbl&gt; | lat.x &lt;dbl&gt; | lon &lt;dbl&gt; | airport_name &lt;chr&gt; | city &lt;chr&gt; | country.etc &lt;chr&gt; | lat.y &lt;dbl&gt; | long &lt;dbl&gt; |\n|---|---|---|---|---|---|---|---|---|---|---|---|---|---|---|\n| 2016 | 01 | JAN | 2016-01-01 | LELL | Sabadell               | Spain   | 1 | 0 | 0 | N/A | Sabadell | Spain    | 41.55 |   2.10 |\n| 2016 | 01 | JAN | 2016-01-02 | EIWT | Weston                 | Ireland | 1 | 0 | 0 | N/A | Weston   | USA      | 26.10 | -80.40 |\n| 2016 | 01 | JAN | 2016-01-02 | LECU | Madrid - Cuatro Viento | Spain   | 1 | 0 | 0 | N/A | Madrid   | Colombia |  4.74 | -74.27 |\n| 2016 | 01 | JAN | 2016-01-02 | LECU | Madrid - Cuatro Viento | Spain   | 1 | 0 | 0 | N/A | Madrid   | Spain    | 40.42 |  -3.71 |\n| 2016 | 01 | JAN | 2016-01-02 | LELL | Sabadell               | Spain   | 0 | 0 | 0 | N/A | Sabadell | Spain    | 41.55 |   2.10 |\n| 2016 | 01 | JAN | 2016-01-03 | EIWT | Weston                 | Ireland | 1 | 0 | 0 | N/A | Weston   | USA      | 26.10 | -80.40 |\n\n",
            "text/latex": "A tibble: 6 × 15\n\\begin{tabular}{lllllllllllllll}\n YEAR & MONTH\\_NUM & MONTH\\_MON & FLT\\_DATE & APT\\_ICAO & APT\\_NAME & STATE\\_NAME & FLT\\_DEP\\_1 & lat.x & lon & airport\\_name & city & country.etc & lat.y & long\\\\\n <dbl> & <chr> & <chr> & <dttm> & <chr> & <chr> & <chr> & <dbl> & <dbl> & <dbl> & <chr> & <chr> & <chr> & <dbl> & <dbl>\\\\\n\\hline\n\t 2016 & 01 & JAN & 2016-01-01 & LELL & Sabadell               & Spain   & 1 & 0 & 0 & N/A & Sabadell & Spain    & 41.55 &   2.10\\\\\n\t 2016 & 01 & JAN & 2016-01-02 & EIWT & Weston                 & Ireland & 1 & 0 & 0 & N/A & Weston   & USA      & 26.10 & -80.40\\\\\n\t 2016 & 01 & JAN & 2016-01-02 & LECU & Madrid - Cuatro Viento & Spain   & 1 & 0 & 0 & N/A & Madrid   & Colombia &  4.74 & -74.27\\\\\n\t 2016 & 01 & JAN & 2016-01-02 & LECU & Madrid - Cuatro Viento & Spain   & 1 & 0 & 0 & N/A & Madrid   & Spain    & 40.42 &  -3.71\\\\\n\t 2016 & 01 & JAN & 2016-01-02 & LELL & Sabadell               & Spain   & 0 & 0 & 0 & N/A & Sabadell & Spain    & 41.55 &   2.10\\\\\n\t 2016 & 01 & JAN & 2016-01-03 & EIWT & Weston                 & Ireland & 1 & 0 & 0 & N/A & Weston   & USA      & 26.10 & -80.40\\\\\n\\end{tabular}\n",
            "text/plain": [
              "  YEAR MONTH_NUM MONTH_MON FLT_DATE   APT_ICAO APT_NAME              \n",
              "1 2016 01        JAN       2016-01-01 LELL     Sabadell              \n",
              "2 2016 01        JAN       2016-01-02 EIWT     Weston                \n",
              "3 2016 01        JAN       2016-01-02 LECU     Madrid - Cuatro Viento\n",
              "4 2016 01        JAN       2016-01-02 LECU     Madrid - Cuatro Viento\n",
              "5 2016 01        JAN       2016-01-02 LELL     Sabadell              \n",
              "6 2016 01        JAN       2016-01-03 EIWT     Weston                \n",
              "  STATE_NAME FLT_DEP_1 lat.x lon airport_name city     country.etc lat.y long  \n",
              "1 Spain      1         0     0   N/A          Sabadell Spain       41.55   2.10\n",
              "2 Ireland    1         0     0   N/A          Weston   USA         26.10 -80.40\n",
              "3 Spain      1         0     0   N/A          Madrid   Colombia     4.74 -74.27\n",
              "4 Spain      1         0     0   N/A          Madrid   Spain       40.42  -3.71\n",
              "5 Spain      0         0     0   N/A          Sabadell Spain       41.55   2.10\n",
              "6 Ireland    1         0     0   N/A          Weston   USA         26.10 -80.40"
            ]
          },
          "metadata": {}
        }
      ]
    },
    {
      "cell_type": "code",
      "source": [
        "flights_aug <- flights_aug %>% \n",
        "  mutate(lat.x = ifelse(lat.x == 0, lat.y, lat.x),\n",
        "        lon = ifelse(lon == 0, long, lon))"
      ],
      "metadata": {
        "id": "nEcS-WYgu_gg"
      },
      "execution_count": null,
      "outputs": []
    },
    {
      "cell_type": "code",
      "source": [
        "head(flights_aug)"
      ],
      "metadata": {
        "colab": {
          "base_uri": "https://localhost:8080/",
          "height": 410
        },
        "id": "A9iQCg48u_eH",
        "outputId": "e8091817-85db-4743-bf61-9fe9129a694e"
      },
      "execution_count": null,
      "outputs": [
        {
          "output_type": "display_data",
          "data": {
            "text/html": [
              "<table class=\"dataframe\">\n",
              "<caption>A tibble: 6 × 15</caption>\n",
              "<thead>\n",
              "\t<tr><th scope=col>YEAR</th><th scope=col>MONTH_NUM</th><th scope=col>MONTH_MON</th><th scope=col>FLT_DATE</th><th scope=col>APT_ICAO</th><th scope=col>APT_NAME</th><th scope=col>STATE_NAME</th><th scope=col>FLT_DEP_1</th><th scope=col>lat.x</th><th scope=col>lon</th><th scope=col>airport_name</th><th scope=col>city</th><th scope=col>country.etc</th><th scope=col>lat.y</th><th scope=col>long</th></tr>\n",
              "\t<tr><th scope=col>&lt;dbl&gt;</th><th scope=col>&lt;chr&gt;</th><th scope=col>&lt;chr&gt;</th><th scope=col>&lt;dttm&gt;</th><th scope=col>&lt;chr&gt;</th><th scope=col>&lt;chr&gt;</th><th scope=col>&lt;chr&gt;</th><th scope=col>&lt;dbl&gt;</th><th scope=col>&lt;dbl&gt;</th><th scope=col>&lt;dbl&gt;</th><th scope=col>&lt;chr&gt;</th><th scope=col>&lt;chr&gt;</th><th scope=col>&lt;chr&gt;</th><th scope=col>&lt;dbl&gt;</th><th scope=col>&lt;dbl&gt;</th></tr>\n",
              "</thead>\n",
              "<tbody>\n",
              "\t<tr><td>2016</td><td>01</td><td>JAN</td><td>2016-01-01</td><td>EBAW</td><td>Antwerp      </td><td>Belgium</td><td>  4</td><td>51.1124</td><td>4.2746</td><td>DEURNE        </td><td>Antwerp  </td><td>Belgium</td><td>51.22</td><td>  4.42</td></tr>\n",
              "\t<tr><td>2016</td><td>01</td><td>JAN</td><td>2016-01-01</td><td>EBBR</td><td>Brussels     </td><td>Belgium</td><td>174</td><td>50.5480</td><td>4.2955</td><td>BRUSSELS NATL </td><td>Brussels </td><td>Belgium</td><td>50.83</td><td>  4.33</td></tr>\n",
              "\t<tr><td>2016</td><td>01</td><td>JAN</td><td>2016-01-01</td><td>EBBR</td><td>Brussels     </td><td>Belgium</td><td>174</td><td>50.5480</td><td>4.2955</td><td>BRUSSELS NATL </td><td>Brussels </td><td>Canada </td><td>43.75</td><td>-81.25</td></tr>\n",
              "\t<tr><td>2016</td><td>01</td><td>JAN</td><td>2016-01-01</td><td>EBCI</td><td>Charleroi    </td><td>Belgium</td><td> 45</td><td>50.2733</td><td>4.2713</td><td>BRUSSELS SOUTH</td><td>Charleroi</td><td>Belgium</td><td>50.42</td><td>  4.43</td></tr>\n",
              "\t<tr><td>2016</td><td>01</td><td>JAN</td><td>2016-01-01</td><td>EBLG</td><td>Liège        </td><td>Belgium</td><td>  6</td><td>50.3814</td><td>5.2635</td><td>LIEGE         </td><td>Liege    </td><td>Belgium</td><td>50.64</td><td>  5.57</td></tr>\n",
              "\t<tr><td>2016</td><td>01</td><td>JAN</td><td>2016-01-01</td><td>EBOS</td><td>Ostend-Bruges</td><td>Belgium</td><td>  7</td><td>51.1156</td><td>2.5144</td><td>OOSTENDE      </td><td>Ostend   </td><td>Belgium</td><td>51.22</td><td>  2.92</td></tr>\n",
              "</tbody>\n",
              "</table>\n"
            ],
            "text/markdown": "\nA tibble: 6 × 15\n\n| YEAR &lt;dbl&gt; | MONTH_NUM &lt;chr&gt; | MONTH_MON &lt;chr&gt; | FLT_DATE &lt;dttm&gt; | APT_ICAO &lt;chr&gt; | APT_NAME &lt;chr&gt; | STATE_NAME &lt;chr&gt; | FLT_DEP_1 &lt;dbl&gt; | lat.x &lt;dbl&gt; | lon &lt;dbl&gt; | airport_name &lt;chr&gt; | city &lt;chr&gt; | country.etc &lt;chr&gt; | lat.y &lt;dbl&gt; | long &lt;dbl&gt; |\n|---|---|---|---|---|---|---|---|---|---|---|---|---|---|---|\n| 2016 | 01 | JAN | 2016-01-01 | EBAW | Antwerp       | Belgium |   4 | 51.1124 | 4.2746 | DEURNE         | Antwerp   | Belgium | 51.22 |   4.42 |\n| 2016 | 01 | JAN | 2016-01-01 | EBBR | Brussels      | Belgium | 174 | 50.5480 | 4.2955 | BRUSSELS NATL  | Brussels  | Belgium | 50.83 |   4.33 |\n| 2016 | 01 | JAN | 2016-01-01 | EBBR | Brussels      | Belgium | 174 | 50.5480 | 4.2955 | BRUSSELS NATL  | Brussels  | Canada  | 43.75 | -81.25 |\n| 2016 | 01 | JAN | 2016-01-01 | EBCI | Charleroi     | Belgium |  45 | 50.2733 | 4.2713 | BRUSSELS SOUTH | Charleroi | Belgium | 50.42 |   4.43 |\n| 2016 | 01 | JAN | 2016-01-01 | EBLG | Liège         | Belgium |   6 | 50.3814 | 5.2635 | LIEGE          | Liege     | Belgium | 50.64 |   5.57 |\n| 2016 | 01 | JAN | 2016-01-01 | EBOS | Ostend-Bruges | Belgium |   7 | 51.1156 | 2.5144 | OOSTENDE       | Ostend    | Belgium | 51.22 |   2.92 |\n\n",
            "text/latex": "A tibble: 6 × 15\n\\begin{tabular}{lllllllllllllll}\n YEAR & MONTH\\_NUM & MONTH\\_MON & FLT\\_DATE & APT\\_ICAO & APT\\_NAME & STATE\\_NAME & FLT\\_DEP\\_1 & lat.x & lon & airport\\_name & city & country.etc & lat.y & long\\\\\n <dbl> & <chr> & <chr> & <dttm> & <chr> & <chr> & <chr> & <dbl> & <dbl> & <dbl> & <chr> & <chr> & <chr> & <dbl> & <dbl>\\\\\n\\hline\n\t 2016 & 01 & JAN & 2016-01-01 & EBAW & Antwerp       & Belgium &   4 & 51.1124 & 4.2746 & DEURNE         & Antwerp   & Belgium & 51.22 &   4.42\\\\\n\t 2016 & 01 & JAN & 2016-01-01 & EBBR & Brussels      & Belgium & 174 & 50.5480 & 4.2955 & BRUSSELS NATL  & Brussels  & Belgium & 50.83 &   4.33\\\\\n\t 2016 & 01 & JAN & 2016-01-01 & EBBR & Brussels      & Belgium & 174 & 50.5480 & 4.2955 & BRUSSELS NATL  & Brussels  & Canada  & 43.75 & -81.25\\\\\n\t 2016 & 01 & JAN & 2016-01-01 & EBCI & Charleroi     & Belgium &  45 & 50.2733 & 4.2713 & BRUSSELS SOUTH & Charleroi & Belgium & 50.42 &   4.43\\\\\n\t 2016 & 01 & JAN & 2016-01-01 & EBLG & Liège         & Belgium &   6 & 50.3814 & 5.2635 & LIEGE          & Liege     & Belgium & 50.64 &   5.57\\\\\n\t 2016 & 01 & JAN & 2016-01-01 & EBOS & Ostend-Bruges & Belgium &   7 & 51.1156 & 2.5144 & OOSTENDE       & Ostend    & Belgium & 51.22 &   2.92\\\\\n\\end{tabular}\n",
            "text/plain": [
              "  YEAR MONTH_NUM MONTH_MON FLT_DATE   APT_ICAO APT_NAME      STATE_NAME\n",
              "1 2016 01        JAN       2016-01-01 EBAW     Antwerp       Belgium   \n",
              "2 2016 01        JAN       2016-01-01 EBBR     Brussels      Belgium   \n",
              "3 2016 01        JAN       2016-01-01 EBBR     Brussels      Belgium   \n",
              "4 2016 01        JAN       2016-01-01 EBCI     Charleroi     Belgium   \n",
              "5 2016 01        JAN       2016-01-01 EBLG     Liège         Belgium   \n",
              "6 2016 01        JAN       2016-01-01 EBOS     Ostend-Bruges Belgium   \n",
              "  FLT_DEP_1 lat.x   lon    airport_name   city      country.etc lat.y long  \n",
              "1   4       51.1124 4.2746 DEURNE         Antwerp   Belgium     51.22   4.42\n",
              "2 174       50.5480 4.2955 BRUSSELS NATL  Brussels  Belgium     50.83   4.33\n",
              "3 174       50.5480 4.2955 BRUSSELS NATL  Brussels  Canada      43.75 -81.25\n",
              "4  45       50.2733 4.2713 BRUSSELS SOUTH Charleroi Belgium     50.42   4.43\n",
              "5   6       50.3814 5.2635 LIEGE          Liege     Belgium     50.64   5.57\n",
              "6   7       51.1156 2.5144 OOSTENDE       Ostend    Belgium     51.22   2.92"
            ]
          },
          "metadata": {}
        }
      ]
    },
    {
      "cell_type": "code",
      "source": [
        "flights_cl <- flights_aug %>% \n",
        "  filter(YEAR == 2021) %>% \n",
        "  select(-c(\"YEAR\", \"MONTH_NUM\", \"MONTH_MON\", \"FLT_DATE\", \"airport_name\", \"lat.y\", \"long\", \"city\", \"country.etc\")) %>%\n",
        "  group_by(APT_ICAO) %>%\n",
        "  summarize(dep_th = sum(FLT_DEP_1)) %>%\n",
        "  left_join(flights_aug %>% select(APT_ICAO, lat.x, lon, APT_NAME, STATE_NAME) %>% distinct()) %>%\n",
        "  filter(lat.x != 0)\n",
        "\n",
        "head(flights_cl, 2)"
      ],
      "metadata": {
        "colab": {
          "base_uri": "https://localhost:8080/",
          "height": 179
        },
        "id": "FnpzJbv7u_Zg",
        "outputId": "15401a45-f6c2-4e25-a4ec-071b7c7e9a92"
      },
      "execution_count": null,
      "outputs": [
        {
          "output_type": "stream",
          "name": "stderr",
          "text": [
            "\u001b[1m\u001b[22mJoining, by = \"APT_ICAO\"\n"
          ]
        },
        {
          "output_type": "display_data",
          "data": {
            "text/html": [
              "<table class=\"dataframe\">\n",
              "<caption>A tibble: 2 × 6</caption>\n",
              "<thead>\n",
              "\t<tr><th scope=col>APT_ICAO</th><th scope=col>dep_th</th><th scope=col>lat.x</th><th scope=col>lon</th><th scope=col>APT_NAME</th><th scope=col>STATE_NAME</th></tr>\n",
              "\t<tr><th scope=col>&lt;chr&gt;</th><th scope=col>&lt;dbl&gt;</th><th scope=col>&lt;dbl&gt;</th><th scope=col>&lt;dbl&gt;</th><th scope=col>&lt;chr&gt;</th><th scope=col>&lt;chr&gt;</th></tr>\n",
              "</thead>\n",
              "<tbody>\n",
              "\t<tr><td>EBAW</td><td>  6669</td><td>51.1124</td><td>4.2746</td><td>Antwerp </td><td>Belgium</td></tr>\n",
              "\t<tr><td>EBBR</td><td>114148</td><td>50.5480</td><td>4.2955</td><td>Brussels</td><td>Belgium</td></tr>\n",
              "</tbody>\n",
              "</table>\n"
            ],
            "text/markdown": "\nA tibble: 2 × 6\n\n| APT_ICAO &lt;chr&gt; | dep_th &lt;dbl&gt; | lat.x &lt;dbl&gt; | lon &lt;dbl&gt; | APT_NAME &lt;chr&gt; | STATE_NAME &lt;chr&gt; |\n|---|---|---|---|---|---|\n| EBAW |   6669 | 51.1124 | 4.2746 | Antwerp  | Belgium |\n| EBBR | 114148 | 50.5480 | 4.2955 | Brussels | Belgium |\n\n",
            "text/latex": "A tibble: 2 × 6\n\\begin{tabular}{llllll}\n APT\\_ICAO & dep\\_th & lat.x & lon & APT\\_NAME & STATE\\_NAME\\\\\n <chr> & <dbl> & <dbl> & <dbl> & <chr> & <chr>\\\\\n\\hline\n\t EBAW &   6669 & 51.1124 & 4.2746 & Antwerp  & Belgium\\\\\n\t EBBR & 114148 & 50.5480 & 4.2955 & Brussels & Belgium\\\\\n\\end{tabular}\n",
            "text/plain": [
              "  APT_ICAO dep_th lat.x   lon    APT_NAME STATE_NAME\n",
              "1 EBAW       6669 51.1124 4.2746 Antwerp  Belgium   \n",
              "2 EBBR     114148 50.5480 4.2955 Brussels Belgium   "
            ]
          },
          "metadata": {}
        }
      ]
    },
    {
      "cell_type": "code",
      "source": [
        "# Активируй этот\n",
        "flights_cl <- flights_aug %>% \n",
        "  filter(YEAR == 2021) %>% \n",
        "  select(-c(\"YEAR\", \"MONTH_NUM\", \"MONTH_MON\", \"FLT_DATE\", \"airport_name\", \"city\", \"country.etc\")) %>%\n",
        "  group_by(APT_ICAO) %>%\n",
        "  summarize(dep_th = sum(FLT_DEP_1)) %>%\n",
        "  left_join(flights_aug %>% select(APT_ICAO, lat.x, lon, APT_NAME, STATE_NAME, lat.y, long) %>% distinct()) %>%\n",
        "  filter(lat.x != 0) %>%\n",
        "  filter(STATE_NAME %in% EU_borders$region )"
      ],
      "metadata": {
        "colab": {
          "base_uri": "https://localhost:8080/"
        },
        "id": "ThOsRkRTGhix",
        "outputId": "8bc20a8a-6408-4484-b2be-149b0e576e78"
      },
      "execution_count": null,
      "outputs": [
        {
          "output_type": "stream",
          "name": "stderr",
          "text": [
            "\u001b[1m\u001b[22mJoining, by = \"APT_ICAO\"\n"
          ]
        }
      ]
    },
    {
      "cell_type": "code",
      "source": [
        "flights_cl <- flights_aug %>% \n",
        "  filter(YEAR == 2021) %>% \n",
        "  select(-c(\"YEAR\", \"MONTH_NUM\", \"MONTH_MON\", \"FLT_DATE\", \"airport_name\", \"lat.y\", \"long\",  \"country.etc\")) %>%\n",
        "  group_by(APT_ICAO) %>%\n",
        "  summarize(dep_th = sum(FLT_DEP_1)) %>%\n",
        "  left_join(flights_aug %>% select(APT_ICAO, lat.x, lon, APT_NAME, STATE_NAME, city) %>% distinct()) %>%\n",
        "  filter(lat.x != 0)  %>%\n",
        "  filter(STATE_NAME %in% EU_borders$region )\n",
        "\n",
        "\n",
        "flight_cl"
      ],
      "metadata": {
        "colab": {
          "base_uri": "https://localhost:8080/",
          "height": 116
        },
        "id": "LVmb_cj31po2",
        "outputId": "1a9063e5-4abe-4418-9b88-38a5738a8b8f"
      },
      "execution_count": null,
      "outputs": [
        {
          "output_type": "stream",
          "name": "stderr",
          "text": [
            "\u001b[1m\u001b[22mJoining, by = \"APT_ICAO\"\n"
          ]
        },
        {
          "output_type": "error",
          "ename": "ERROR",
          "evalue": "ignored",
          "traceback": [
            "Error in eval(expr, envir, enclos): object 'flight_cl' not found\nTraceback:\n"
          ]
        }
      ]
    },
    {
      "cell_type": "code",
      "source": [
        "additional_cities"
      ],
      "metadata": {
        "id": "lEFAEjbM2Bz-"
      },
      "execution_count": null,
      "outputs": []
    },
    {
      "cell_type": "code",
      "source": [
        "install.packages(\"mapproj\")\n",
        "library(mapproj)\n",
        "\n",
        "install.packages(\"viridis\")\n",
        "library(viridis)"
      ],
      "metadata": {
        "colab": {
          "base_uri": "https://localhost:8080/"
        },
        "id": "gO3B3i5f0-XG",
        "outputId": "0867bd49-764b-4491-efad-d6f1f8250359"
      },
      "execution_count": null,
      "outputs": [
        {
          "output_type": "stream",
          "name": "stderr",
          "text": [
            "Installing package into ‘/usr/local/lib/R/site-library’\n",
            "(as ‘lib’ is unspecified)\n",
            "\n",
            "Installing package into ‘/usr/local/lib/R/site-library’\n",
            "(as ‘lib’ is unspecified)\n",
            "\n",
            "Loading required package: viridisLite\n",
            "\n",
            "\n",
            "Attaching package: ‘viridis’\n",
            "\n",
            "\n",
            "The following object is masked from ‘package:scales’:\n",
            "\n",
            "    viridis_pal\n",
            "\n",
            "\n",
            "The following object is masked from ‘package:maps’:\n",
            "\n",
            "    unemp\n",
            "\n",
            "\n"
          ]
        }
      ]
    },
    {
      "cell_type": "code",
      "source": [
        "head(flights_cl)"
      ],
      "metadata": {
        "colab": {
          "base_uri": "https://localhost:8080/",
          "height": 286
        },
        "id": "gTUseCbpMASj",
        "outputId": "a69664f0-2e79-40bc-d2c8-46d39cbc055f"
      },
      "execution_count": null,
      "outputs": [
        {
          "output_type": "display_data",
          "data": {
            "text/html": [
              "<table class=\"dataframe\">\n",
              "<caption>A tibble: 6 × 8</caption>\n",
              "<thead>\n",
              "\t<tr><th scope=col>APT_ICAO</th><th scope=col>dep_th</th><th scope=col>lat.x</th><th scope=col>lon</th><th scope=col>APT_NAME</th><th scope=col>STATE_NAME</th><th scope=col>lat.y</th><th scope=col>long</th></tr>\n",
              "\t<tr><th scope=col>&lt;chr&gt;</th><th scope=col>&lt;dbl&gt;</th><th scope=col>&lt;dbl&gt;</th><th scope=col>&lt;dbl&gt;</th><th scope=col>&lt;chr&gt;</th><th scope=col>&lt;chr&gt;</th><th scope=col>&lt;dbl&gt;</th><th scope=col>&lt;dbl&gt;</th></tr>\n",
              "</thead>\n",
              "<tbody>\n",
              "\t<tr><td>EBAW</td><td>  6669</td><td>51.1124</td><td>4.2746</td><td>Antwerp      </td><td>Belgium</td><td>51.22</td><td>  4.42</td></tr>\n",
              "\t<tr><td>EBBR</td><td>114148</td><td>50.5480</td><td>4.2955</td><td>Brussels     </td><td>Belgium</td><td>50.83</td><td>  4.33</td></tr>\n",
              "\t<tr><td>EBBR</td><td>114148</td><td>50.5480</td><td>4.2955</td><td>Brussels     </td><td>Belgium</td><td>43.75</td><td>-81.25</td></tr>\n",
              "\t<tr><td>EBCI</td><td> 16605</td><td>50.2733</td><td>4.2713</td><td>Charleroi    </td><td>Belgium</td><td>50.42</td><td>  4.43</td></tr>\n",
              "\t<tr><td>EBLG</td><td> 20937</td><td>50.3814</td><td>5.2635</td><td>Liège        </td><td>Belgium</td><td>50.64</td><td>  5.57</td></tr>\n",
              "\t<tr><td>EBOS</td><td>  3389</td><td>51.1156</td><td>2.5144</td><td>Ostend-Bruges</td><td>Belgium</td><td>51.22</td><td>  2.92</td></tr>\n",
              "</tbody>\n",
              "</table>\n"
            ],
            "text/markdown": "\nA tibble: 6 × 8\n\n| APT_ICAO &lt;chr&gt; | dep_th &lt;dbl&gt; | lat.x &lt;dbl&gt; | lon &lt;dbl&gt; | APT_NAME &lt;chr&gt; | STATE_NAME &lt;chr&gt; | lat.y &lt;dbl&gt; | long &lt;dbl&gt; |\n|---|---|---|---|---|---|---|---|\n| EBAW |   6669 | 51.1124 | 4.2746 | Antwerp       | Belgium | 51.22 |   4.42 |\n| EBBR | 114148 | 50.5480 | 4.2955 | Brussels      | Belgium | 50.83 |   4.33 |\n| EBBR | 114148 | 50.5480 | 4.2955 | Brussels      | Belgium | 43.75 | -81.25 |\n| EBCI |  16605 | 50.2733 | 4.2713 | Charleroi     | Belgium | 50.42 |   4.43 |\n| EBLG |  20937 | 50.3814 | 5.2635 | Liège         | Belgium | 50.64 |   5.57 |\n| EBOS |   3389 | 51.1156 | 2.5144 | Ostend-Bruges | Belgium | 51.22 |   2.92 |\n\n",
            "text/latex": "A tibble: 6 × 8\n\\begin{tabular}{llllllll}\n APT\\_ICAO & dep\\_th & lat.x & lon & APT\\_NAME & STATE\\_NAME & lat.y & long\\\\\n <chr> & <dbl> & <dbl> & <dbl> & <chr> & <chr> & <dbl> & <dbl>\\\\\n\\hline\n\t EBAW &   6669 & 51.1124 & 4.2746 & Antwerp       & Belgium & 51.22 &   4.42\\\\\n\t EBBR & 114148 & 50.5480 & 4.2955 & Brussels      & Belgium & 50.83 &   4.33\\\\\n\t EBBR & 114148 & 50.5480 & 4.2955 & Brussels      & Belgium & 43.75 & -81.25\\\\\n\t EBCI &  16605 & 50.2733 & 4.2713 & Charleroi     & Belgium & 50.42 &   4.43\\\\\n\t EBLG &  20937 & 50.3814 & 5.2635 & Liège         & Belgium & 50.64 &   5.57\\\\\n\t EBOS &   3389 & 51.1156 & 2.5144 & Ostend-Bruges & Belgium & 51.22 &   2.92\\\\\n\\end{tabular}\n",
            "text/plain": [
              "  APT_ICAO dep_th lat.x   lon    APT_NAME      STATE_NAME lat.y long  \n",
              "1 EBAW       6669 51.1124 4.2746 Antwerp       Belgium    51.22   4.42\n",
              "2 EBBR     114148 50.5480 4.2955 Brussels      Belgium    50.83   4.33\n",
              "3 EBBR     114148 50.5480 4.2955 Brussels      Belgium    43.75 -81.25\n",
              "4 EBCI      16605 50.2733 4.2713 Charleroi     Belgium    50.42   4.43\n",
              "5 EBLG      20937 50.3814 5.2635 Liège         Belgium    50.64   5.57\n",
              "6 EBOS       3389 51.1156 2.5144 Ostend-Bruges Belgium    51.22   2.92"
            ]
          },
          "metadata": {}
        }
      ]
    },
    {
      "cell_type": "code",
      "source": [
        "install.packages(\"wesanderson\")\n",
        "library(wesanderson)\n",
        "\n",
        "install.packages(\"ggsci\")\n",
        "library(\"ggsci\")\n",
        "\n",
        "install.packages(\"MetBrewer\")\n",
        "\n",
        "library(MetBrewer)"
      ],
      "metadata": {
        "colab": {
          "base_uri": "https://localhost:8080/"
        },
        "id": "r29jfPO4NiUJ",
        "outputId": "e6815e26-97be-46c3-c565-08ea17882723"
      },
      "execution_count": null,
      "outputs": [
        {
          "output_type": "stream",
          "name": "stderr",
          "text": [
            "Installing package into ‘/usr/local/lib/R/site-library’\n",
            "(as ‘lib’ is unspecified)\n",
            "\n",
            "Installing package into ‘/usr/local/lib/R/site-library’\n",
            "(as ‘lib’ is unspecified)\n",
            "\n",
            "Installing package into ‘/usr/local/lib/R/site-library’\n",
            "(as ‘lib’ is unspecified)\n",
            "\n",
            "Registered S3 method overwritten by 'MetBrewer':\n",
            "  method        from       \n",
            "  print.palette wesanderson\n",
            "\n"
          ]
        }
      ]
    },
    {
      "cell_type": "code",
      "source": [
        ""
      ],
      "metadata": {
        "id": "esIbULZQOPb5"
      },
      "execution_count": null,
      "outputs": []
    },
    {
      "cell_type": "code",
      "source": [
        ""
      ],
      "metadata": {
        "id": "OLejTDiKP4q3"
      },
      "execution_count": null,
      "outputs": []
    },
    {
      "cell_type": "markdown",
      "source": [
        "Hiroshige"
      ],
      "metadata": {
        "id": "MD6yDVx6QD69"
      }
    },
    {
      "cell_type": "code",
      "source": [
        "ggplot()+\n",
        "geom_polygon(data = EU_borders, aes(x = long, y = lat, group = group), fill = \"navyblue\", alpha = 0.3)+\n",
        "geom_point(data = flights_cl, aes(x = long, y = lat.y, size  = dep_th/1000, color = dep_th/1000)) +\n",
        "theme_void() +\n",
        "scale_size_continuous(name = \"Departures, T\")+\n",
        "scale_color_gradientn(low = \"navy\", mid = \"white\", high = \"red\", midpoint = 1000, l)\n",
        "#scale_color_gradientn(colors = met.brewer(\"Archambault\")) +\n",
        "\n",
        "ylim(35,72)+\n",
        "xlim(-20, 50) +\n",
        "coord_map()"
      ],
      "metadata": {
        "colab": {
          "base_uri": "https://localhost:8080/",
          "height": 171
        },
        "id": "nKkFvdPNdmpv",
        "outputId": "ac8044e3-f259-4ac3-fd7c-8b3de1fac20a"
      },
      "execution_count": null,
      "outputs": [
        {
          "output_type": "error",
          "ename": "ERROR",
          "evalue": "ignored",
          "traceback": [
            "Error in scale_color_gradientn(low = \"navy\", mid = \"white\", high = \"red\", : argument \"colors\" is missing, with no default\nTraceback:\n",
            "1. scale_color_gradientn(low = \"navy\", mid = \"white\", high = \"red\", \n .     midpoint = 1000)"
          ]
        }
      ]
    },
    {
      "cell_type": "code",
      "source": [
        ""
      ],
      "metadata": {
        "id": "vp1HwUM-Yw3a"
      },
      "execution_count": null,
      "outputs": []
    },
    {
      "cell_type": "code",
      "source": [
        ""
      ],
      "metadata": {
        "id": "ORXAa1_RYwzh"
      },
      "execution_count": null,
      "outputs": []
    },
    {
      "cell_type": "code",
      "source": [
        ""
      ],
      "metadata": {
        "id": "zsWgNpbNQO79"
      },
      "execution_count": null,
      "outputs": []
    }
  ]
}